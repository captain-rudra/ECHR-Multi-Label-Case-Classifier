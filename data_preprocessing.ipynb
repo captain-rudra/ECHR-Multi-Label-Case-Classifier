{
  "nbformat": 4,
  "nbformat_minor": 0,
  "metadata": {
    "colab": {
      "provenance": []
    },
    "kernelspec": {
      "name": "python3",
      "display_name": "Python 3"
    },
    "language_info": {
      "name": "python"
    },
    "widgets": {
      "application/vnd.jupyter.widget-state+json": {
        "d3b6060d69aa465cae400520050cca42": {
          "model_module": "@jupyter-widgets/controls",
          "model_name": "HBoxModel",
          "model_module_version": "1.5.0",
          "state": {
            "_dom_classes": [],
            "_model_module": "@jupyter-widgets/controls",
            "_model_module_version": "1.5.0",
            "_model_name": "HBoxModel",
            "_view_count": null,
            "_view_module": "@jupyter-widgets/controls",
            "_view_module_version": "1.5.0",
            "_view_name": "HBoxView",
            "box_style": "",
            "children": [
              "IPY_MODEL_c08083f62c694e97a55451d36cff15e8",
              "IPY_MODEL_b20dfa6a191b4fd082a5ba6a7529ab86",
              "IPY_MODEL_1427db91ec4740a9b9ac555185b82a4f"
            ],
            "layout": "IPY_MODEL_6d400fde25474211b87853f9cb937b3c"
          }
        },
        "c08083f62c694e97a55451d36cff15e8": {
          "model_module": "@jupyter-widgets/controls",
          "model_name": "HTMLModel",
          "model_module_version": "1.5.0",
          "state": {
            "_dom_classes": [],
            "_model_module": "@jupyter-widgets/controls",
            "_model_module_version": "1.5.0",
            "_model_name": "HTMLModel",
            "_view_count": null,
            "_view_module": "@jupyter-widgets/controls",
            "_view_module_version": "1.5.0",
            "_view_name": "HTMLView",
            "description": "",
            "description_tooltip": null,
            "layout": "IPY_MODEL_85e8bfb227d941beb5aabbc8a0bb84d5",
            "placeholder": "​",
            "style": "IPY_MODEL_6ba87af69ff34a4288362bddf88a303e",
            "value": "README.md: "
          }
        },
        "b20dfa6a191b4fd082a5ba6a7529ab86": {
          "model_module": "@jupyter-widgets/controls",
          "model_name": "FloatProgressModel",
          "model_module_version": "1.5.0",
          "state": {
            "_dom_classes": [],
            "_model_module": "@jupyter-widgets/controls",
            "_model_module_version": "1.5.0",
            "_model_name": "FloatProgressModel",
            "_view_count": null,
            "_view_module": "@jupyter-widgets/controls",
            "_view_module_version": "1.5.0",
            "_view_name": "ProgressView",
            "bar_style": "success",
            "description": "",
            "description_tooltip": null,
            "layout": "IPY_MODEL_8bea179c93bf4d8ab767701025cb9ca3",
            "max": 1,
            "min": 0,
            "orientation": "horizontal",
            "style": "IPY_MODEL_ec9efe5a1a9949c38c8ee078b49a2c67",
            "value": 1
          }
        },
        "1427db91ec4740a9b9ac555185b82a4f": {
          "model_module": "@jupyter-widgets/controls",
          "model_name": "HTMLModel",
          "model_module_version": "1.5.0",
          "state": {
            "_dom_classes": [],
            "_model_module": "@jupyter-widgets/controls",
            "_model_module_version": "1.5.0",
            "_model_name": "HTMLModel",
            "_view_count": null,
            "_view_module": "@jupyter-widgets/controls",
            "_view_module_version": "1.5.0",
            "_view_name": "HTMLView",
            "description": "",
            "description_tooltip": null,
            "layout": "IPY_MODEL_4dac5f58718b480c9081505ff4095d1f",
            "placeholder": "​",
            "style": "IPY_MODEL_c125a3be0fa3477689e18981908d3b1e",
            "value": " 34.1k/? [00:00&lt;00:00, 1.19MB/s]"
          }
        },
        "6d400fde25474211b87853f9cb937b3c": {
          "model_module": "@jupyter-widgets/base",
          "model_name": "LayoutModel",
          "model_module_version": "1.2.0",
          "state": {
            "_model_module": "@jupyter-widgets/base",
            "_model_module_version": "1.2.0",
            "_model_name": "LayoutModel",
            "_view_count": null,
            "_view_module": "@jupyter-widgets/base",
            "_view_module_version": "1.2.0",
            "_view_name": "LayoutView",
            "align_content": null,
            "align_items": null,
            "align_self": null,
            "border": null,
            "bottom": null,
            "display": null,
            "flex": null,
            "flex_flow": null,
            "grid_area": null,
            "grid_auto_columns": null,
            "grid_auto_flow": null,
            "grid_auto_rows": null,
            "grid_column": null,
            "grid_gap": null,
            "grid_row": null,
            "grid_template_areas": null,
            "grid_template_columns": null,
            "grid_template_rows": null,
            "height": null,
            "justify_content": null,
            "justify_items": null,
            "left": null,
            "margin": null,
            "max_height": null,
            "max_width": null,
            "min_height": null,
            "min_width": null,
            "object_fit": null,
            "object_position": null,
            "order": null,
            "overflow": null,
            "overflow_x": null,
            "overflow_y": null,
            "padding": null,
            "right": null,
            "top": null,
            "visibility": null,
            "width": null
          }
        },
        "85e8bfb227d941beb5aabbc8a0bb84d5": {
          "model_module": "@jupyter-widgets/base",
          "model_name": "LayoutModel",
          "model_module_version": "1.2.0",
          "state": {
            "_model_module": "@jupyter-widgets/base",
            "_model_module_version": "1.2.0",
            "_model_name": "LayoutModel",
            "_view_count": null,
            "_view_module": "@jupyter-widgets/base",
            "_view_module_version": "1.2.0",
            "_view_name": "LayoutView",
            "align_content": null,
            "align_items": null,
            "align_self": null,
            "border": null,
            "bottom": null,
            "display": null,
            "flex": null,
            "flex_flow": null,
            "grid_area": null,
            "grid_auto_columns": null,
            "grid_auto_flow": null,
            "grid_auto_rows": null,
            "grid_column": null,
            "grid_gap": null,
            "grid_row": null,
            "grid_template_areas": null,
            "grid_template_columns": null,
            "grid_template_rows": null,
            "height": null,
            "justify_content": null,
            "justify_items": null,
            "left": null,
            "margin": null,
            "max_height": null,
            "max_width": null,
            "min_height": null,
            "min_width": null,
            "object_fit": null,
            "object_position": null,
            "order": null,
            "overflow": null,
            "overflow_x": null,
            "overflow_y": null,
            "padding": null,
            "right": null,
            "top": null,
            "visibility": null,
            "width": null
          }
        },
        "6ba87af69ff34a4288362bddf88a303e": {
          "model_module": "@jupyter-widgets/controls",
          "model_name": "DescriptionStyleModel",
          "model_module_version": "1.5.0",
          "state": {
            "_model_module": "@jupyter-widgets/controls",
            "_model_module_version": "1.5.0",
            "_model_name": "DescriptionStyleModel",
            "_view_count": null,
            "_view_module": "@jupyter-widgets/base",
            "_view_module_version": "1.2.0",
            "_view_name": "StyleView",
            "description_width": ""
          }
        },
        "8bea179c93bf4d8ab767701025cb9ca3": {
          "model_module": "@jupyter-widgets/base",
          "model_name": "LayoutModel",
          "model_module_version": "1.2.0",
          "state": {
            "_model_module": "@jupyter-widgets/base",
            "_model_module_version": "1.2.0",
            "_model_name": "LayoutModel",
            "_view_count": null,
            "_view_module": "@jupyter-widgets/base",
            "_view_module_version": "1.2.0",
            "_view_name": "LayoutView",
            "align_content": null,
            "align_items": null,
            "align_self": null,
            "border": null,
            "bottom": null,
            "display": null,
            "flex": null,
            "flex_flow": null,
            "grid_area": null,
            "grid_auto_columns": null,
            "grid_auto_flow": null,
            "grid_auto_rows": null,
            "grid_column": null,
            "grid_gap": null,
            "grid_row": null,
            "grid_template_areas": null,
            "grid_template_columns": null,
            "grid_template_rows": null,
            "height": null,
            "justify_content": null,
            "justify_items": null,
            "left": null,
            "margin": null,
            "max_height": null,
            "max_width": null,
            "min_height": null,
            "min_width": null,
            "object_fit": null,
            "object_position": null,
            "order": null,
            "overflow": null,
            "overflow_x": null,
            "overflow_y": null,
            "padding": null,
            "right": null,
            "top": null,
            "visibility": null,
            "width": "20px"
          }
        },
        "ec9efe5a1a9949c38c8ee078b49a2c67": {
          "model_module": "@jupyter-widgets/controls",
          "model_name": "ProgressStyleModel",
          "model_module_version": "1.5.0",
          "state": {
            "_model_module": "@jupyter-widgets/controls",
            "_model_module_version": "1.5.0",
            "_model_name": "ProgressStyleModel",
            "_view_count": null,
            "_view_module": "@jupyter-widgets/base",
            "_view_module_version": "1.2.0",
            "_view_name": "StyleView",
            "bar_color": null,
            "description_width": ""
          }
        },
        "4dac5f58718b480c9081505ff4095d1f": {
          "model_module": "@jupyter-widgets/base",
          "model_name": "LayoutModel",
          "model_module_version": "1.2.0",
          "state": {
            "_model_module": "@jupyter-widgets/base",
            "_model_module_version": "1.2.0",
            "_model_name": "LayoutModel",
            "_view_count": null,
            "_view_module": "@jupyter-widgets/base",
            "_view_module_version": "1.2.0",
            "_view_name": "LayoutView",
            "align_content": null,
            "align_items": null,
            "align_self": null,
            "border": null,
            "bottom": null,
            "display": null,
            "flex": null,
            "flex_flow": null,
            "grid_area": null,
            "grid_auto_columns": null,
            "grid_auto_flow": null,
            "grid_auto_rows": null,
            "grid_column": null,
            "grid_gap": null,
            "grid_row": null,
            "grid_template_areas": null,
            "grid_template_columns": null,
            "grid_template_rows": null,
            "height": null,
            "justify_content": null,
            "justify_items": null,
            "left": null,
            "margin": null,
            "max_height": null,
            "max_width": null,
            "min_height": null,
            "min_width": null,
            "object_fit": null,
            "object_position": null,
            "order": null,
            "overflow": null,
            "overflow_x": null,
            "overflow_y": null,
            "padding": null,
            "right": null,
            "top": null,
            "visibility": null,
            "width": null
          }
        },
        "c125a3be0fa3477689e18981908d3b1e": {
          "model_module": "@jupyter-widgets/controls",
          "model_name": "DescriptionStyleModel",
          "model_module_version": "1.5.0",
          "state": {
            "_model_module": "@jupyter-widgets/controls",
            "_model_module_version": "1.5.0",
            "_model_name": "DescriptionStyleModel",
            "_view_count": null,
            "_view_module": "@jupyter-widgets/base",
            "_view_module_version": "1.2.0",
            "_view_name": "StyleView",
            "description_width": ""
          }
        },
        "e423f66b662544678a3d47deae65f79f": {
          "model_module": "@jupyter-widgets/controls",
          "model_name": "HBoxModel",
          "model_module_version": "1.5.0",
          "state": {
            "_dom_classes": [],
            "_model_module": "@jupyter-widgets/controls",
            "_model_module_version": "1.5.0",
            "_model_name": "HBoxModel",
            "_view_count": null,
            "_view_module": "@jupyter-widgets/controls",
            "_view_module_version": "1.5.0",
            "_view_name": "HBoxView",
            "box_style": "",
            "children": [
              "IPY_MODEL_62be645bc96c46bf9297eddcb08013d6",
              "IPY_MODEL_13fbfe7f2a484161b15dd4c4dbdbe819",
              "IPY_MODEL_57692d139a764eb0a9c7cae8661547e1"
            ],
            "layout": "IPY_MODEL_683d20064f65437f90199fbbaf3c6167"
          }
        },
        "62be645bc96c46bf9297eddcb08013d6": {
          "model_module": "@jupyter-widgets/controls",
          "model_name": "HTMLModel",
          "model_module_version": "1.5.0",
          "state": {
            "_dom_classes": [],
            "_model_module": "@jupyter-widgets/controls",
            "_model_module_version": "1.5.0",
            "_model_name": "HTMLModel",
            "_view_count": null,
            "_view_module": "@jupyter-widgets/controls",
            "_view_module_version": "1.5.0",
            "_view_name": "HTMLView",
            "description": "",
            "description_tooltip": null,
            "layout": "IPY_MODEL_71c62b54d4024d5aaf64736fdd001b37",
            "placeholder": "​",
            "style": "IPY_MODEL_9e6780ba670341fc831d7672dc9c9505",
            "value": "ecthr_b/train-00000-of-00001.parquet: 100%"
          }
        },
        "13fbfe7f2a484161b15dd4c4dbdbe819": {
          "model_module": "@jupyter-widgets/controls",
          "model_name": "FloatProgressModel",
          "model_module_version": "1.5.0",
          "state": {
            "_dom_classes": [],
            "_model_module": "@jupyter-widgets/controls",
            "_model_module_version": "1.5.0",
            "_model_name": "FloatProgressModel",
            "_view_count": null,
            "_view_module": "@jupyter-widgets/controls",
            "_view_module_version": "1.5.0",
            "_view_name": "ProgressView",
            "bar_style": "success",
            "description": "",
            "description_tooltip": null,
            "layout": "IPY_MODEL_9df9da258d8f4ce09944624216fb21cb",
            "max": 42415290,
            "min": 0,
            "orientation": "horizontal",
            "style": "IPY_MODEL_340e4473b9ad4882987e71791ee39cfa",
            "value": 42415290
          }
        },
        "57692d139a764eb0a9c7cae8661547e1": {
          "model_module": "@jupyter-widgets/controls",
          "model_name": "HTMLModel",
          "model_module_version": "1.5.0",
          "state": {
            "_dom_classes": [],
            "_model_module": "@jupyter-widgets/controls",
            "_model_module_version": "1.5.0",
            "_model_name": "HTMLModel",
            "_view_count": null,
            "_view_module": "@jupyter-widgets/controls",
            "_view_module_version": "1.5.0",
            "_view_name": "HTMLView",
            "description": "",
            "description_tooltip": null,
            "layout": "IPY_MODEL_0d0f995343984d1d82f4681f743a265f",
            "placeholder": "​",
            "style": "IPY_MODEL_82883369deea4313b05b4bb1b6410d94",
            "value": " 42.4M/42.4M [00:01&lt;00:00, 28.4MB/s]"
          }
        },
        "683d20064f65437f90199fbbaf3c6167": {
          "model_module": "@jupyter-widgets/base",
          "model_name": "LayoutModel",
          "model_module_version": "1.2.0",
          "state": {
            "_model_module": "@jupyter-widgets/base",
            "_model_module_version": "1.2.0",
            "_model_name": "LayoutModel",
            "_view_count": null,
            "_view_module": "@jupyter-widgets/base",
            "_view_module_version": "1.2.0",
            "_view_name": "LayoutView",
            "align_content": null,
            "align_items": null,
            "align_self": null,
            "border": null,
            "bottom": null,
            "display": null,
            "flex": null,
            "flex_flow": null,
            "grid_area": null,
            "grid_auto_columns": null,
            "grid_auto_flow": null,
            "grid_auto_rows": null,
            "grid_column": null,
            "grid_gap": null,
            "grid_row": null,
            "grid_template_areas": null,
            "grid_template_columns": null,
            "grid_template_rows": null,
            "height": null,
            "justify_content": null,
            "justify_items": null,
            "left": null,
            "margin": null,
            "max_height": null,
            "max_width": null,
            "min_height": null,
            "min_width": null,
            "object_fit": null,
            "object_position": null,
            "order": null,
            "overflow": null,
            "overflow_x": null,
            "overflow_y": null,
            "padding": null,
            "right": null,
            "top": null,
            "visibility": null,
            "width": null
          }
        },
        "71c62b54d4024d5aaf64736fdd001b37": {
          "model_module": "@jupyter-widgets/base",
          "model_name": "LayoutModel",
          "model_module_version": "1.2.0",
          "state": {
            "_model_module": "@jupyter-widgets/base",
            "_model_module_version": "1.2.0",
            "_model_name": "LayoutModel",
            "_view_count": null,
            "_view_module": "@jupyter-widgets/base",
            "_view_module_version": "1.2.0",
            "_view_name": "LayoutView",
            "align_content": null,
            "align_items": null,
            "align_self": null,
            "border": null,
            "bottom": null,
            "display": null,
            "flex": null,
            "flex_flow": null,
            "grid_area": null,
            "grid_auto_columns": null,
            "grid_auto_flow": null,
            "grid_auto_rows": null,
            "grid_column": null,
            "grid_gap": null,
            "grid_row": null,
            "grid_template_areas": null,
            "grid_template_columns": null,
            "grid_template_rows": null,
            "height": null,
            "justify_content": null,
            "justify_items": null,
            "left": null,
            "margin": null,
            "max_height": null,
            "max_width": null,
            "min_height": null,
            "min_width": null,
            "object_fit": null,
            "object_position": null,
            "order": null,
            "overflow": null,
            "overflow_x": null,
            "overflow_y": null,
            "padding": null,
            "right": null,
            "top": null,
            "visibility": null,
            "width": null
          }
        },
        "9e6780ba670341fc831d7672dc9c9505": {
          "model_module": "@jupyter-widgets/controls",
          "model_name": "DescriptionStyleModel",
          "model_module_version": "1.5.0",
          "state": {
            "_model_module": "@jupyter-widgets/controls",
            "_model_module_version": "1.5.0",
            "_model_name": "DescriptionStyleModel",
            "_view_count": null,
            "_view_module": "@jupyter-widgets/base",
            "_view_module_version": "1.2.0",
            "_view_name": "StyleView",
            "description_width": ""
          }
        },
        "9df9da258d8f4ce09944624216fb21cb": {
          "model_module": "@jupyter-widgets/base",
          "model_name": "LayoutModel",
          "model_module_version": "1.2.0",
          "state": {
            "_model_module": "@jupyter-widgets/base",
            "_model_module_version": "1.2.0",
            "_model_name": "LayoutModel",
            "_view_count": null,
            "_view_module": "@jupyter-widgets/base",
            "_view_module_version": "1.2.0",
            "_view_name": "LayoutView",
            "align_content": null,
            "align_items": null,
            "align_self": null,
            "border": null,
            "bottom": null,
            "display": null,
            "flex": null,
            "flex_flow": null,
            "grid_area": null,
            "grid_auto_columns": null,
            "grid_auto_flow": null,
            "grid_auto_rows": null,
            "grid_column": null,
            "grid_gap": null,
            "grid_row": null,
            "grid_template_areas": null,
            "grid_template_columns": null,
            "grid_template_rows": null,
            "height": null,
            "justify_content": null,
            "justify_items": null,
            "left": null,
            "margin": null,
            "max_height": null,
            "max_width": null,
            "min_height": null,
            "min_width": null,
            "object_fit": null,
            "object_position": null,
            "order": null,
            "overflow": null,
            "overflow_x": null,
            "overflow_y": null,
            "padding": null,
            "right": null,
            "top": null,
            "visibility": null,
            "width": null
          }
        },
        "340e4473b9ad4882987e71791ee39cfa": {
          "model_module": "@jupyter-widgets/controls",
          "model_name": "ProgressStyleModel",
          "model_module_version": "1.5.0",
          "state": {
            "_model_module": "@jupyter-widgets/controls",
            "_model_module_version": "1.5.0",
            "_model_name": "ProgressStyleModel",
            "_view_count": null,
            "_view_module": "@jupyter-widgets/base",
            "_view_module_version": "1.2.0",
            "_view_name": "StyleView",
            "bar_color": null,
            "description_width": ""
          }
        },
        "0d0f995343984d1d82f4681f743a265f": {
          "model_module": "@jupyter-widgets/base",
          "model_name": "LayoutModel",
          "model_module_version": "1.2.0",
          "state": {
            "_model_module": "@jupyter-widgets/base",
            "_model_module_version": "1.2.0",
            "_model_name": "LayoutModel",
            "_view_count": null,
            "_view_module": "@jupyter-widgets/base",
            "_view_module_version": "1.2.0",
            "_view_name": "LayoutView",
            "align_content": null,
            "align_items": null,
            "align_self": null,
            "border": null,
            "bottom": null,
            "display": null,
            "flex": null,
            "flex_flow": null,
            "grid_area": null,
            "grid_auto_columns": null,
            "grid_auto_flow": null,
            "grid_auto_rows": null,
            "grid_column": null,
            "grid_gap": null,
            "grid_row": null,
            "grid_template_areas": null,
            "grid_template_columns": null,
            "grid_template_rows": null,
            "height": null,
            "justify_content": null,
            "justify_items": null,
            "left": null,
            "margin": null,
            "max_height": null,
            "max_width": null,
            "min_height": null,
            "min_width": null,
            "object_fit": null,
            "object_position": null,
            "order": null,
            "overflow": null,
            "overflow_x": null,
            "overflow_y": null,
            "padding": null,
            "right": null,
            "top": null,
            "visibility": null,
            "width": null
          }
        },
        "82883369deea4313b05b4bb1b6410d94": {
          "model_module": "@jupyter-widgets/controls",
          "model_name": "DescriptionStyleModel",
          "model_module_version": "1.5.0",
          "state": {
            "_model_module": "@jupyter-widgets/controls",
            "_model_module_version": "1.5.0",
            "_model_name": "DescriptionStyleModel",
            "_view_count": null,
            "_view_module": "@jupyter-widgets/base",
            "_view_module_version": "1.2.0",
            "_view_name": "StyleView",
            "description_width": ""
          }
        },
        "be61df19563b4d78a883ab77cd85414b": {
          "model_module": "@jupyter-widgets/controls",
          "model_name": "HBoxModel",
          "model_module_version": "1.5.0",
          "state": {
            "_dom_classes": [],
            "_model_module": "@jupyter-widgets/controls",
            "_model_module_version": "1.5.0",
            "_model_name": "HBoxModel",
            "_view_count": null,
            "_view_module": "@jupyter-widgets/controls",
            "_view_module_version": "1.5.0",
            "_view_name": "HBoxView",
            "box_style": "",
            "children": [
              "IPY_MODEL_9c8c65cc95d4422bab52d66ee478df88",
              "IPY_MODEL_d334c7b93b994e42bec75bec5f25cdac",
              "IPY_MODEL_72d0950832824beaa157b549d0d1b3bc"
            ],
            "layout": "IPY_MODEL_57463a6b262d454a84f73f6517524891"
          }
        },
        "9c8c65cc95d4422bab52d66ee478df88": {
          "model_module": "@jupyter-widgets/controls",
          "model_name": "HTMLModel",
          "model_module_version": "1.5.0",
          "state": {
            "_dom_classes": [],
            "_model_module": "@jupyter-widgets/controls",
            "_model_module_version": "1.5.0",
            "_model_name": "HTMLModel",
            "_view_count": null,
            "_view_module": "@jupyter-widgets/controls",
            "_view_module_version": "1.5.0",
            "_view_name": "HTMLView",
            "description": "",
            "description_tooltip": null,
            "layout": "IPY_MODEL_7fe1796c03514d5ba424cee00965d27b",
            "placeholder": "​",
            "style": "IPY_MODEL_4e87ef0759ae46dca85b8c2044e70038",
            "value": "ecthr_b/test-00000-of-00001.parquet: 100%"
          }
        },
        "d334c7b93b994e42bec75bec5f25cdac": {
          "model_module": "@jupyter-widgets/controls",
          "model_name": "FloatProgressModel",
          "model_module_version": "1.5.0",
          "state": {
            "_dom_classes": [],
            "_model_module": "@jupyter-widgets/controls",
            "_model_module_version": "1.5.0",
            "_model_name": "FloatProgressModel",
            "_view_count": null,
            "_view_module": "@jupyter-widgets/controls",
            "_view_module_version": "1.5.0",
            "_view_name": "ProgressView",
            "bar_style": "success",
            "description": "",
            "description_tooltip": null,
            "layout": "IPY_MODEL_ad6729f6511b490d81ed34b606696d48",
            "max": 5677091,
            "min": 0,
            "orientation": "horizontal",
            "style": "IPY_MODEL_dbf94e29525d4e5ba2c60ff3abb1390e",
            "value": 5677091
          }
        },
        "72d0950832824beaa157b549d0d1b3bc": {
          "model_module": "@jupyter-widgets/controls",
          "model_name": "HTMLModel",
          "model_module_version": "1.5.0",
          "state": {
            "_dom_classes": [],
            "_model_module": "@jupyter-widgets/controls",
            "_model_module_version": "1.5.0",
            "_model_name": "HTMLModel",
            "_view_count": null,
            "_view_module": "@jupyter-widgets/controls",
            "_view_module_version": "1.5.0",
            "_view_name": "HTMLView",
            "description": "",
            "description_tooltip": null,
            "layout": "IPY_MODEL_dd0ca168c81e4fbe8856fed64be0557a",
            "placeholder": "​",
            "style": "IPY_MODEL_2f6753ba760d43b1ad7ed42e46c39513",
            "value": " 5.68M/5.68M [00:00&lt;00:00, 6.83MB/s]"
          }
        },
        "57463a6b262d454a84f73f6517524891": {
          "model_module": "@jupyter-widgets/base",
          "model_name": "LayoutModel",
          "model_module_version": "1.2.0",
          "state": {
            "_model_module": "@jupyter-widgets/base",
            "_model_module_version": "1.2.0",
            "_model_name": "LayoutModel",
            "_view_count": null,
            "_view_module": "@jupyter-widgets/base",
            "_view_module_version": "1.2.0",
            "_view_name": "LayoutView",
            "align_content": null,
            "align_items": null,
            "align_self": null,
            "border": null,
            "bottom": null,
            "display": null,
            "flex": null,
            "flex_flow": null,
            "grid_area": null,
            "grid_auto_columns": null,
            "grid_auto_flow": null,
            "grid_auto_rows": null,
            "grid_column": null,
            "grid_gap": null,
            "grid_row": null,
            "grid_template_areas": null,
            "grid_template_columns": null,
            "grid_template_rows": null,
            "height": null,
            "justify_content": null,
            "justify_items": null,
            "left": null,
            "margin": null,
            "max_height": null,
            "max_width": null,
            "min_height": null,
            "min_width": null,
            "object_fit": null,
            "object_position": null,
            "order": null,
            "overflow": null,
            "overflow_x": null,
            "overflow_y": null,
            "padding": null,
            "right": null,
            "top": null,
            "visibility": null,
            "width": null
          }
        },
        "7fe1796c03514d5ba424cee00965d27b": {
          "model_module": "@jupyter-widgets/base",
          "model_name": "LayoutModel",
          "model_module_version": "1.2.0",
          "state": {
            "_model_module": "@jupyter-widgets/base",
            "_model_module_version": "1.2.0",
            "_model_name": "LayoutModel",
            "_view_count": null,
            "_view_module": "@jupyter-widgets/base",
            "_view_module_version": "1.2.0",
            "_view_name": "LayoutView",
            "align_content": null,
            "align_items": null,
            "align_self": null,
            "border": null,
            "bottom": null,
            "display": null,
            "flex": null,
            "flex_flow": null,
            "grid_area": null,
            "grid_auto_columns": null,
            "grid_auto_flow": null,
            "grid_auto_rows": null,
            "grid_column": null,
            "grid_gap": null,
            "grid_row": null,
            "grid_template_areas": null,
            "grid_template_columns": null,
            "grid_template_rows": null,
            "height": null,
            "justify_content": null,
            "justify_items": null,
            "left": null,
            "margin": null,
            "max_height": null,
            "max_width": null,
            "min_height": null,
            "min_width": null,
            "object_fit": null,
            "object_position": null,
            "order": null,
            "overflow": null,
            "overflow_x": null,
            "overflow_y": null,
            "padding": null,
            "right": null,
            "top": null,
            "visibility": null,
            "width": null
          }
        },
        "4e87ef0759ae46dca85b8c2044e70038": {
          "model_module": "@jupyter-widgets/controls",
          "model_name": "DescriptionStyleModel",
          "model_module_version": "1.5.0",
          "state": {
            "_model_module": "@jupyter-widgets/controls",
            "_model_module_version": "1.5.0",
            "_model_name": "DescriptionStyleModel",
            "_view_count": null,
            "_view_module": "@jupyter-widgets/base",
            "_view_module_version": "1.2.0",
            "_view_name": "StyleView",
            "description_width": ""
          }
        },
        "ad6729f6511b490d81ed34b606696d48": {
          "model_module": "@jupyter-widgets/base",
          "model_name": "LayoutModel",
          "model_module_version": "1.2.0",
          "state": {
            "_model_module": "@jupyter-widgets/base",
            "_model_module_version": "1.2.0",
            "_model_name": "LayoutModel",
            "_view_count": null,
            "_view_module": "@jupyter-widgets/base",
            "_view_module_version": "1.2.0",
            "_view_name": "LayoutView",
            "align_content": null,
            "align_items": null,
            "align_self": null,
            "border": null,
            "bottom": null,
            "display": null,
            "flex": null,
            "flex_flow": null,
            "grid_area": null,
            "grid_auto_columns": null,
            "grid_auto_flow": null,
            "grid_auto_rows": null,
            "grid_column": null,
            "grid_gap": null,
            "grid_row": null,
            "grid_template_areas": null,
            "grid_template_columns": null,
            "grid_template_rows": null,
            "height": null,
            "justify_content": null,
            "justify_items": null,
            "left": null,
            "margin": null,
            "max_height": null,
            "max_width": null,
            "min_height": null,
            "min_width": null,
            "object_fit": null,
            "object_position": null,
            "order": null,
            "overflow": null,
            "overflow_x": null,
            "overflow_y": null,
            "padding": null,
            "right": null,
            "top": null,
            "visibility": null,
            "width": null
          }
        },
        "dbf94e29525d4e5ba2c60ff3abb1390e": {
          "model_module": "@jupyter-widgets/controls",
          "model_name": "ProgressStyleModel",
          "model_module_version": "1.5.0",
          "state": {
            "_model_module": "@jupyter-widgets/controls",
            "_model_module_version": "1.5.0",
            "_model_name": "ProgressStyleModel",
            "_view_count": null,
            "_view_module": "@jupyter-widgets/base",
            "_view_module_version": "1.2.0",
            "_view_name": "StyleView",
            "bar_color": null,
            "description_width": ""
          }
        },
        "dd0ca168c81e4fbe8856fed64be0557a": {
          "model_module": "@jupyter-widgets/base",
          "model_name": "LayoutModel",
          "model_module_version": "1.2.0",
          "state": {
            "_model_module": "@jupyter-widgets/base",
            "_model_module_version": "1.2.0",
            "_model_name": "LayoutModel",
            "_view_count": null,
            "_view_module": "@jupyter-widgets/base",
            "_view_module_version": "1.2.0",
            "_view_name": "LayoutView",
            "align_content": null,
            "align_items": null,
            "align_self": null,
            "border": null,
            "bottom": null,
            "display": null,
            "flex": null,
            "flex_flow": null,
            "grid_area": null,
            "grid_auto_columns": null,
            "grid_auto_flow": null,
            "grid_auto_rows": null,
            "grid_column": null,
            "grid_gap": null,
            "grid_row": null,
            "grid_template_areas": null,
            "grid_template_columns": null,
            "grid_template_rows": null,
            "height": null,
            "justify_content": null,
            "justify_items": null,
            "left": null,
            "margin": null,
            "max_height": null,
            "max_width": null,
            "min_height": null,
            "min_width": null,
            "object_fit": null,
            "object_position": null,
            "order": null,
            "overflow": null,
            "overflow_x": null,
            "overflow_y": null,
            "padding": null,
            "right": null,
            "top": null,
            "visibility": null,
            "width": null
          }
        },
        "2f6753ba760d43b1ad7ed42e46c39513": {
          "model_module": "@jupyter-widgets/controls",
          "model_name": "DescriptionStyleModel",
          "model_module_version": "1.5.0",
          "state": {
            "_model_module": "@jupyter-widgets/controls",
            "_model_module_version": "1.5.0",
            "_model_name": "DescriptionStyleModel",
            "_view_count": null,
            "_view_module": "@jupyter-widgets/base",
            "_view_module_version": "1.2.0",
            "_view_name": "StyleView",
            "description_width": ""
          }
        },
        "67ede88b6baf44a6acad0d6eb8d7f624": {
          "model_module": "@jupyter-widgets/controls",
          "model_name": "HBoxModel",
          "model_module_version": "1.5.0",
          "state": {
            "_dom_classes": [],
            "_model_module": "@jupyter-widgets/controls",
            "_model_module_version": "1.5.0",
            "_model_name": "HBoxModel",
            "_view_count": null,
            "_view_module": "@jupyter-widgets/controls",
            "_view_module_version": "1.5.0",
            "_view_name": "HBoxView",
            "box_style": "",
            "children": [
              "IPY_MODEL_9c81bf46ebe0445bbaeb7a04c3d5f869",
              "IPY_MODEL_d6d9d39b96e04e4aa8b938efdce26d25",
              "IPY_MODEL_326e68083bf04daab52221d5ef9dbd6c"
            ],
            "layout": "IPY_MODEL_145aa4273bc845fb8114f657d46aea0f"
          }
        },
        "9c81bf46ebe0445bbaeb7a04c3d5f869": {
          "model_module": "@jupyter-widgets/controls",
          "model_name": "HTMLModel",
          "model_module_version": "1.5.0",
          "state": {
            "_dom_classes": [],
            "_model_module": "@jupyter-widgets/controls",
            "_model_module_version": "1.5.0",
            "_model_name": "HTMLModel",
            "_view_count": null,
            "_view_module": "@jupyter-widgets/controls",
            "_view_module_version": "1.5.0",
            "_view_name": "HTMLView",
            "description": "",
            "description_tooltip": null,
            "layout": "IPY_MODEL_0970fdc27abf48f3bcc2ab4c34fbece1",
            "placeholder": "​",
            "style": "IPY_MODEL_5ff3f4993b9c40f7b3f09ce759b58456",
            "value": "ecthr_b/validation-00000-of-00001.parque(…): 100%"
          }
        },
        "d6d9d39b96e04e4aa8b938efdce26d25": {
          "model_module": "@jupyter-widgets/controls",
          "model_name": "FloatProgressModel",
          "model_module_version": "1.5.0",
          "state": {
            "_dom_classes": [],
            "_model_module": "@jupyter-widgets/controls",
            "_model_module_version": "1.5.0",
            "_model_name": "FloatProgressModel",
            "_view_count": null,
            "_view_module": "@jupyter-widgets/controls",
            "_view_module_version": "1.5.0",
            "_view_name": "ProgressView",
            "bar_style": "success",
            "description": "",
            "description_tooltip": null,
            "layout": "IPY_MODEL_3e36555c2e1e488b84ff59d8168503db",
            "max": 5260113,
            "min": 0,
            "orientation": "horizontal",
            "style": "IPY_MODEL_4a7664d57aee430ebbbc9bbee51571b1",
            "value": 5260113
          }
        },
        "326e68083bf04daab52221d5ef9dbd6c": {
          "model_module": "@jupyter-widgets/controls",
          "model_name": "HTMLModel",
          "model_module_version": "1.5.0",
          "state": {
            "_dom_classes": [],
            "_model_module": "@jupyter-widgets/controls",
            "_model_module_version": "1.5.0",
            "_model_name": "HTMLModel",
            "_view_count": null,
            "_view_module": "@jupyter-widgets/controls",
            "_view_module_version": "1.5.0",
            "_view_name": "HTMLView",
            "description": "",
            "description_tooltip": null,
            "layout": "IPY_MODEL_cfc46ce0fe944c719367d15901fd7b35",
            "placeholder": "​",
            "style": "IPY_MODEL_5c3bb4a54eb44e409c7291075c8ab895",
            "value": " 5.26M/5.26M [00:00&lt;00:00, 7.20MB/s]"
          }
        },
        "145aa4273bc845fb8114f657d46aea0f": {
          "model_module": "@jupyter-widgets/base",
          "model_name": "LayoutModel",
          "model_module_version": "1.2.0",
          "state": {
            "_model_module": "@jupyter-widgets/base",
            "_model_module_version": "1.2.0",
            "_model_name": "LayoutModel",
            "_view_count": null,
            "_view_module": "@jupyter-widgets/base",
            "_view_module_version": "1.2.0",
            "_view_name": "LayoutView",
            "align_content": null,
            "align_items": null,
            "align_self": null,
            "border": null,
            "bottom": null,
            "display": null,
            "flex": null,
            "flex_flow": null,
            "grid_area": null,
            "grid_auto_columns": null,
            "grid_auto_flow": null,
            "grid_auto_rows": null,
            "grid_column": null,
            "grid_gap": null,
            "grid_row": null,
            "grid_template_areas": null,
            "grid_template_columns": null,
            "grid_template_rows": null,
            "height": null,
            "justify_content": null,
            "justify_items": null,
            "left": null,
            "margin": null,
            "max_height": null,
            "max_width": null,
            "min_height": null,
            "min_width": null,
            "object_fit": null,
            "object_position": null,
            "order": null,
            "overflow": null,
            "overflow_x": null,
            "overflow_y": null,
            "padding": null,
            "right": null,
            "top": null,
            "visibility": null,
            "width": null
          }
        },
        "0970fdc27abf48f3bcc2ab4c34fbece1": {
          "model_module": "@jupyter-widgets/base",
          "model_name": "LayoutModel",
          "model_module_version": "1.2.0",
          "state": {
            "_model_module": "@jupyter-widgets/base",
            "_model_module_version": "1.2.0",
            "_model_name": "LayoutModel",
            "_view_count": null,
            "_view_module": "@jupyter-widgets/base",
            "_view_module_version": "1.2.0",
            "_view_name": "LayoutView",
            "align_content": null,
            "align_items": null,
            "align_self": null,
            "border": null,
            "bottom": null,
            "display": null,
            "flex": null,
            "flex_flow": null,
            "grid_area": null,
            "grid_auto_columns": null,
            "grid_auto_flow": null,
            "grid_auto_rows": null,
            "grid_column": null,
            "grid_gap": null,
            "grid_row": null,
            "grid_template_areas": null,
            "grid_template_columns": null,
            "grid_template_rows": null,
            "height": null,
            "justify_content": null,
            "justify_items": null,
            "left": null,
            "margin": null,
            "max_height": null,
            "max_width": null,
            "min_height": null,
            "min_width": null,
            "object_fit": null,
            "object_position": null,
            "order": null,
            "overflow": null,
            "overflow_x": null,
            "overflow_y": null,
            "padding": null,
            "right": null,
            "top": null,
            "visibility": null,
            "width": null
          }
        },
        "5ff3f4993b9c40f7b3f09ce759b58456": {
          "model_module": "@jupyter-widgets/controls",
          "model_name": "DescriptionStyleModel",
          "model_module_version": "1.5.0",
          "state": {
            "_model_module": "@jupyter-widgets/controls",
            "_model_module_version": "1.5.0",
            "_model_name": "DescriptionStyleModel",
            "_view_count": null,
            "_view_module": "@jupyter-widgets/base",
            "_view_module_version": "1.2.0",
            "_view_name": "StyleView",
            "description_width": ""
          }
        },
        "3e36555c2e1e488b84ff59d8168503db": {
          "model_module": "@jupyter-widgets/base",
          "model_name": "LayoutModel",
          "model_module_version": "1.2.0",
          "state": {
            "_model_module": "@jupyter-widgets/base",
            "_model_module_version": "1.2.0",
            "_model_name": "LayoutModel",
            "_view_count": null,
            "_view_module": "@jupyter-widgets/base",
            "_view_module_version": "1.2.0",
            "_view_name": "LayoutView",
            "align_content": null,
            "align_items": null,
            "align_self": null,
            "border": null,
            "bottom": null,
            "display": null,
            "flex": null,
            "flex_flow": null,
            "grid_area": null,
            "grid_auto_columns": null,
            "grid_auto_flow": null,
            "grid_auto_rows": null,
            "grid_column": null,
            "grid_gap": null,
            "grid_row": null,
            "grid_template_areas": null,
            "grid_template_columns": null,
            "grid_template_rows": null,
            "height": null,
            "justify_content": null,
            "justify_items": null,
            "left": null,
            "margin": null,
            "max_height": null,
            "max_width": null,
            "min_height": null,
            "min_width": null,
            "object_fit": null,
            "object_position": null,
            "order": null,
            "overflow": null,
            "overflow_x": null,
            "overflow_y": null,
            "padding": null,
            "right": null,
            "top": null,
            "visibility": null,
            "width": null
          }
        },
        "4a7664d57aee430ebbbc9bbee51571b1": {
          "model_module": "@jupyter-widgets/controls",
          "model_name": "ProgressStyleModel",
          "model_module_version": "1.5.0",
          "state": {
            "_model_module": "@jupyter-widgets/controls",
            "_model_module_version": "1.5.0",
            "_model_name": "ProgressStyleModel",
            "_view_count": null,
            "_view_module": "@jupyter-widgets/base",
            "_view_module_version": "1.2.0",
            "_view_name": "StyleView",
            "bar_color": null,
            "description_width": ""
          }
        },
        "cfc46ce0fe944c719367d15901fd7b35": {
          "model_module": "@jupyter-widgets/base",
          "model_name": "LayoutModel",
          "model_module_version": "1.2.0",
          "state": {
            "_model_module": "@jupyter-widgets/base",
            "_model_module_version": "1.2.0",
            "_model_name": "LayoutModel",
            "_view_count": null,
            "_view_module": "@jupyter-widgets/base",
            "_view_module_version": "1.2.0",
            "_view_name": "LayoutView",
            "align_content": null,
            "align_items": null,
            "align_self": null,
            "border": null,
            "bottom": null,
            "display": null,
            "flex": null,
            "flex_flow": null,
            "grid_area": null,
            "grid_auto_columns": null,
            "grid_auto_flow": null,
            "grid_auto_rows": null,
            "grid_column": null,
            "grid_gap": null,
            "grid_row": null,
            "grid_template_areas": null,
            "grid_template_columns": null,
            "grid_template_rows": null,
            "height": null,
            "justify_content": null,
            "justify_items": null,
            "left": null,
            "margin": null,
            "max_height": null,
            "max_width": null,
            "min_height": null,
            "min_width": null,
            "object_fit": null,
            "object_position": null,
            "order": null,
            "overflow": null,
            "overflow_x": null,
            "overflow_y": null,
            "padding": null,
            "right": null,
            "top": null,
            "visibility": null,
            "width": null
          }
        },
        "5c3bb4a54eb44e409c7291075c8ab895": {
          "model_module": "@jupyter-widgets/controls",
          "model_name": "DescriptionStyleModel",
          "model_module_version": "1.5.0",
          "state": {
            "_model_module": "@jupyter-widgets/controls",
            "_model_module_version": "1.5.0",
            "_model_name": "DescriptionStyleModel",
            "_view_count": null,
            "_view_module": "@jupyter-widgets/base",
            "_view_module_version": "1.2.0",
            "_view_name": "StyleView",
            "description_width": ""
          }
        },
        "f547cbc72b2145ad9f9da126fad5a7af": {
          "model_module": "@jupyter-widgets/controls",
          "model_name": "HBoxModel",
          "model_module_version": "1.5.0",
          "state": {
            "_dom_classes": [],
            "_model_module": "@jupyter-widgets/controls",
            "_model_module_version": "1.5.0",
            "_model_name": "HBoxModel",
            "_view_count": null,
            "_view_module": "@jupyter-widgets/controls",
            "_view_module_version": "1.5.0",
            "_view_name": "HBoxView",
            "box_style": "",
            "children": [
              "IPY_MODEL_5daf46adc6054d16b5e3db5259c03c11",
              "IPY_MODEL_35fa0f7726d342959b244c00eff0f9b8",
              "IPY_MODEL_619d8d665bd44dada8fd353a950e2780"
            ],
            "layout": "IPY_MODEL_6c670976487248a5aded4becb9ace6cb"
          }
        },
        "5daf46adc6054d16b5e3db5259c03c11": {
          "model_module": "@jupyter-widgets/controls",
          "model_name": "HTMLModel",
          "model_module_version": "1.5.0",
          "state": {
            "_dom_classes": [],
            "_model_module": "@jupyter-widgets/controls",
            "_model_module_version": "1.5.0",
            "_model_name": "HTMLModel",
            "_view_count": null,
            "_view_module": "@jupyter-widgets/controls",
            "_view_module_version": "1.5.0",
            "_view_name": "HTMLView",
            "description": "",
            "description_tooltip": null,
            "layout": "IPY_MODEL_556b9f0d946042148c12210d05292d6d",
            "placeholder": "​",
            "style": "IPY_MODEL_1fb3948434bc4920b1d2172fb7db1a20",
            "value": "Generating train split: 100%"
          }
        },
        "35fa0f7726d342959b244c00eff0f9b8": {
          "model_module": "@jupyter-widgets/controls",
          "model_name": "FloatProgressModel",
          "model_module_version": "1.5.0",
          "state": {
            "_dom_classes": [],
            "_model_module": "@jupyter-widgets/controls",
            "_model_module_version": "1.5.0",
            "_model_name": "FloatProgressModel",
            "_view_count": null,
            "_view_module": "@jupyter-widgets/controls",
            "_view_module_version": "1.5.0",
            "_view_name": "ProgressView",
            "bar_style": "success",
            "description": "",
            "description_tooltip": null,
            "layout": "IPY_MODEL_3364594df1b2482dbdfe1f5fa0f6307a",
            "max": 9000,
            "min": 0,
            "orientation": "horizontal",
            "style": "IPY_MODEL_897e022b01e744998597c5adc976e46e",
            "value": 9000
          }
        },
        "619d8d665bd44dada8fd353a950e2780": {
          "model_module": "@jupyter-widgets/controls",
          "model_name": "HTMLModel",
          "model_module_version": "1.5.0",
          "state": {
            "_dom_classes": [],
            "_model_module": "@jupyter-widgets/controls",
            "_model_module_version": "1.5.0",
            "_model_name": "HTMLModel",
            "_view_count": null,
            "_view_module": "@jupyter-widgets/controls",
            "_view_module_version": "1.5.0",
            "_view_name": "HTMLView",
            "description": "",
            "description_tooltip": null,
            "layout": "IPY_MODEL_e7af8eabae3141d788631fb2250943ed",
            "placeholder": "​",
            "style": "IPY_MODEL_a1515be82c404fd5920e102484ea4527",
            "value": " 9000/9000 [00:02&lt;00:00, 4273.63 examples/s]"
          }
        },
        "6c670976487248a5aded4becb9ace6cb": {
          "model_module": "@jupyter-widgets/base",
          "model_name": "LayoutModel",
          "model_module_version": "1.2.0",
          "state": {
            "_model_module": "@jupyter-widgets/base",
            "_model_module_version": "1.2.0",
            "_model_name": "LayoutModel",
            "_view_count": null,
            "_view_module": "@jupyter-widgets/base",
            "_view_module_version": "1.2.0",
            "_view_name": "LayoutView",
            "align_content": null,
            "align_items": null,
            "align_self": null,
            "border": null,
            "bottom": null,
            "display": null,
            "flex": null,
            "flex_flow": null,
            "grid_area": null,
            "grid_auto_columns": null,
            "grid_auto_flow": null,
            "grid_auto_rows": null,
            "grid_column": null,
            "grid_gap": null,
            "grid_row": null,
            "grid_template_areas": null,
            "grid_template_columns": null,
            "grid_template_rows": null,
            "height": null,
            "justify_content": null,
            "justify_items": null,
            "left": null,
            "margin": null,
            "max_height": null,
            "max_width": null,
            "min_height": null,
            "min_width": null,
            "object_fit": null,
            "object_position": null,
            "order": null,
            "overflow": null,
            "overflow_x": null,
            "overflow_y": null,
            "padding": null,
            "right": null,
            "top": null,
            "visibility": null,
            "width": null
          }
        },
        "556b9f0d946042148c12210d05292d6d": {
          "model_module": "@jupyter-widgets/base",
          "model_name": "LayoutModel",
          "model_module_version": "1.2.0",
          "state": {
            "_model_module": "@jupyter-widgets/base",
            "_model_module_version": "1.2.0",
            "_model_name": "LayoutModel",
            "_view_count": null,
            "_view_module": "@jupyter-widgets/base",
            "_view_module_version": "1.2.0",
            "_view_name": "LayoutView",
            "align_content": null,
            "align_items": null,
            "align_self": null,
            "border": null,
            "bottom": null,
            "display": null,
            "flex": null,
            "flex_flow": null,
            "grid_area": null,
            "grid_auto_columns": null,
            "grid_auto_flow": null,
            "grid_auto_rows": null,
            "grid_column": null,
            "grid_gap": null,
            "grid_row": null,
            "grid_template_areas": null,
            "grid_template_columns": null,
            "grid_template_rows": null,
            "height": null,
            "justify_content": null,
            "justify_items": null,
            "left": null,
            "margin": null,
            "max_height": null,
            "max_width": null,
            "min_height": null,
            "min_width": null,
            "object_fit": null,
            "object_position": null,
            "order": null,
            "overflow": null,
            "overflow_x": null,
            "overflow_y": null,
            "padding": null,
            "right": null,
            "top": null,
            "visibility": null,
            "width": null
          }
        },
        "1fb3948434bc4920b1d2172fb7db1a20": {
          "model_module": "@jupyter-widgets/controls",
          "model_name": "DescriptionStyleModel",
          "model_module_version": "1.5.0",
          "state": {
            "_model_module": "@jupyter-widgets/controls",
            "_model_module_version": "1.5.0",
            "_model_name": "DescriptionStyleModel",
            "_view_count": null,
            "_view_module": "@jupyter-widgets/base",
            "_view_module_version": "1.2.0",
            "_view_name": "StyleView",
            "description_width": ""
          }
        },
        "3364594df1b2482dbdfe1f5fa0f6307a": {
          "model_module": "@jupyter-widgets/base",
          "model_name": "LayoutModel",
          "model_module_version": "1.2.0",
          "state": {
            "_model_module": "@jupyter-widgets/base",
            "_model_module_version": "1.2.0",
            "_model_name": "LayoutModel",
            "_view_count": null,
            "_view_module": "@jupyter-widgets/base",
            "_view_module_version": "1.2.0",
            "_view_name": "LayoutView",
            "align_content": null,
            "align_items": null,
            "align_self": null,
            "border": null,
            "bottom": null,
            "display": null,
            "flex": null,
            "flex_flow": null,
            "grid_area": null,
            "grid_auto_columns": null,
            "grid_auto_flow": null,
            "grid_auto_rows": null,
            "grid_column": null,
            "grid_gap": null,
            "grid_row": null,
            "grid_template_areas": null,
            "grid_template_columns": null,
            "grid_template_rows": null,
            "height": null,
            "justify_content": null,
            "justify_items": null,
            "left": null,
            "margin": null,
            "max_height": null,
            "max_width": null,
            "min_height": null,
            "min_width": null,
            "object_fit": null,
            "object_position": null,
            "order": null,
            "overflow": null,
            "overflow_x": null,
            "overflow_y": null,
            "padding": null,
            "right": null,
            "top": null,
            "visibility": null,
            "width": null
          }
        },
        "897e022b01e744998597c5adc976e46e": {
          "model_module": "@jupyter-widgets/controls",
          "model_name": "ProgressStyleModel",
          "model_module_version": "1.5.0",
          "state": {
            "_model_module": "@jupyter-widgets/controls",
            "_model_module_version": "1.5.0",
            "_model_name": "ProgressStyleModel",
            "_view_count": null,
            "_view_module": "@jupyter-widgets/base",
            "_view_module_version": "1.2.0",
            "_view_name": "StyleView",
            "bar_color": null,
            "description_width": ""
          }
        },
        "e7af8eabae3141d788631fb2250943ed": {
          "model_module": "@jupyter-widgets/base",
          "model_name": "LayoutModel",
          "model_module_version": "1.2.0",
          "state": {
            "_model_module": "@jupyter-widgets/base",
            "_model_module_version": "1.2.0",
            "_model_name": "LayoutModel",
            "_view_count": null,
            "_view_module": "@jupyter-widgets/base",
            "_view_module_version": "1.2.0",
            "_view_name": "LayoutView",
            "align_content": null,
            "align_items": null,
            "align_self": null,
            "border": null,
            "bottom": null,
            "display": null,
            "flex": null,
            "flex_flow": null,
            "grid_area": null,
            "grid_auto_columns": null,
            "grid_auto_flow": null,
            "grid_auto_rows": null,
            "grid_column": null,
            "grid_gap": null,
            "grid_row": null,
            "grid_template_areas": null,
            "grid_template_columns": null,
            "grid_template_rows": null,
            "height": null,
            "justify_content": null,
            "justify_items": null,
            "left": null,
            "margin": null,
            "max_height": null,
            "max_width": null,
            "min_height": null,
            "min_width": null,
            "object_fit": null,
            "object_position": null,
            "order": null,
            "overflow": null,
            "overflow_x": null,
            "overflow_y": null,
            "padding": null,
            "right": null,
            "top": null,
            "visibility": null,
            "width": null
          }
        },
        "a1515be82c404fd5920e102484ea4527": {
          "model_module": "@jupyter-widgets/controls",
          "model_name": "DescriptionStyleModel",
          "model_module_version": "1.5.0",
          "state": {
            "_model_module": "@jupyter-widgets/controls",
            "_model_module_version": "1.5.0",
            "_model_name": "DescriptionStyleModel",
            "_view_count": null,
            "_view_module": "@jupyter-widgets/base",
            "_view_module_version": "1.2.0",
            "_view_name": "StyleView",
            "description_width": ""
          }
        },
        "2e87460a18984085b8bd75ac32b65826": {
          "model_module": "@jupyter-widgets/controls",
          "model_name": "HBoxModel",
          "model_module_version": "1.5.0",
          "state": {
            "_dom_classes": [],
            "_model_module": "@jupyter-widgets/controls",
            "_model_module_version": "1.5.0",
            "_model_name": "HBoxModel",
            "_view_count": null,
            "_view_module": "@jupyter-widgets/controls",
            "_view_module_version": "1.5.0",
            "_view_name": "HBoxView",
            "box_style": "",
            "children": [
              "IPY_MODEL_13d5e3a7c41e40c99c65df6e6d0fedd8",
              "IPY_MODEL_eb83d76a28e049b0b5273a9aa7929153",
              "IPY_MODEL_896e05d4c15b428a8a6a02707781ed11"
            ],
            "layout": "IPY_MODEL_b36fbf7b080240b197b503207d36c20d"
          }
        },
        "13d5e3a7c41e40c99c65df6e6d0fedd8": {
          "model_module": "@jupyter-widgets/controls",
          "model_name": "HTMLModel",
          "model_module_version": "1.5.0",
          "state": {
            "_dom_classes": [],
            "_model_module": "@jupyter-widgets/controls",
            "_model_module_version": "1.5.0",
            "_model_name": "HTMLModel",
            "_view_count": null,
            "_view_module": "@jupyter-widgets/controls",
            "_view_module_version": "1.5.0",
            "_view_name": "HTMLView",
            "description": "",
            "description_tooltip": null,
            "layout": "IPY_MODEL_d03791a82e964e9fae670cf75623b3d8",
            "placeholder": "​",
            "style": "IPY_MODEL_b00a66b0c4fa4c2b9ef2a9fe2954a910",
            "value": "Generating test split: 100%"
          }
        },
        "eb83d76a28e049b0b5273a9aa7929153": {
          "model_module": "@jupyter-widgets/controls",
          "model_name": "FloatProgressModel",
          "model_module_version": "1.5.0",
          "state": {
            "_dom_classes": [],
            "_model_module": "@jupyter-widgets/controls",
            "_model_module_version": "1.5.0",
            "_model_name": "FloatProgressModel",
            "_view_count": null,
            "_view_module": "@jupyter-widgets/controls",
            "_view_module_version": "1.5.0",
            "_view_name": "ProgressView",
            "bar_style": "success",
            "description": "",
            "description_tooltip": null,
            "layout": "IPY_MODEL_948344a052f047c8b5028f46d9ed6a6e",
            "max": 1000,
            "min": 0,
            "orientation": "horizontal",
            "style": "IPY_MODEL_fcb68686e97c4e8eba4df33a7d452748",
            "value": 1000
          }
        },
        "896e05d4c15b428a8a6a02707781ed11": {
          "model_module": "@jupyter-widgets/controls",
          "model_name": "HTMLModel",
          "model_module_version": "1.5.0",
          "state": {
            "_dom_classes": [],
            "_model_module": "@jupyter-widgets/controls",
            "_model_module_version": "1.5.0",
            "_model_name": "HTMLModel",
            "_view_count": null,
            "_view_module": "@jupyter-widgets/controls",
            "_view_module_version": "1.5.0",
            "_view_name": "HTMLView",
            "description": "",
            "description_tooltip": null,
            "layout": "IPY_MODEL_3342f1cb32a74b9fb3a643818f123088",
            "placeholder": "​",
            "style": "IPY_MODEL_b42cabda1fc44ca19b522be0d1032cb1",
            "value": " 1000/1000 [00:00&lt;00:00, 3971.11 examples/s]"
          }
        },
        "b36fbf7b080240b197b503207d36c20d": {
          "model_module": "@jupyter-widgets/base",
          "model_name": "LayoutModel",
          "model_module_version": "1.2.0",
          "state": {
            "_model_module": "@jupyter-widgets/base",
            "_model_module_version": "1.2.0",
            "_model_name": "LayoutModel",
            "_view_count": null,
            "_view_module": "@jupyter-widgets/base",
            "_view_module_version": "1.2.0",
            "_view_name": "LayoutView",
            "align_content": null,
            "align_items": null,
            "align_self": null,
            "border": null,
            "bottom": null,
            "display": null,
            "flex": null,
            "flex_flow": null,
            "grid_area": null,
            "grid_auto_columns": null,
            "grid_auto_flow": null,
            "grid_auto_rows": null,
            "grid_column": null,
            "grid_gap": null,
            "grid_row": null,
            "grid_template_areas": null,
            "grid_template_columns": null,
            "grid_template_rows": null,
            "height": null,
            "justify_content": null,
            "justify_items": null,
            "left": null,
            "margin": null,
            "max_height": null,
            "max_width": null,
            "min_height": null,
            "min_width": null,
            "object_fit": null,
            "object_position": null,
            "order": null,
            "overflow": null,
            "overflow_x": null,
            "overflow_y": null,
            "padding": null,
            "right": null,
            "top": null,
            "visibility": null,
            "width": null
          }
        },
        "d03791a82e964e9fae670cf75623b3d8": {
          "model_module": "@jupyter-widgets/base",
          "model_name": "LayoutModel",
          "model_module_version": "1.2.0",
          "state": {
            "_model_module": "@jupyter-widgets/base",
            "_model_module_version": "1.2.0",
            "_model_name": "LayoutModel",
            "_view_count": null,
            "_view_module": "@jupyter-widgets/base",
            "_view_module_version": "1.2.0",
            "_view_name": "LayoutView",
            "align_content": null,
            "align_items": null,
            "align_self": null,
            "border": null,
            "bottom": null,
            "display": null,
            "flex": null,
            "flex_flow": null,
            "grid_area": null,
            "grid_auto_columns": null,
            "grid_auto_flow": null,
            "grid_auto_rows": null,
            "grid_column": null,
            "grid_gap": null,
            "grid_row": null,
            "grid_template_areas": null,
            "grid_template_columns": null,
            "grid_template_rows": null,
            "height": null,
            "justify_content": null,
            "justify_items": null,
            "left": null,
            "margin": null,
            "max_height": null,
            "max_width": null,
            "min_height": null,
            "min_width": null,
            "object_fit": null,
            "object_position": null,
            "order": null,
            "overflow": null,
            "overflow_x": null,
            "overflow_y": null,
            "padding": null,
            "right": null,
            "top": null,
            "visibility": null,
            "width": null
          }
        },
        "b00a66b0c4fa4c2b9ef2a9fe2954a910": {
          "model_module": "@jupyter-widgets/controls",
          "model_name": "DescriptionStyleModel",
          "model_module_version": "1.5.0",
          "state": {
            "_model_module": "@jupyter-widgets/controls",
            "_model_module_version": "1.5.0",
            "_model_name": "DescriptionStyleModel",
            "_view_count": null,
            "_view_module": "@jupyter-widgets/base",
            "_view_module_version": "1.2.0",
            "_view_name": "StyleView",
            "description_width": ""
          }
        },
        "948344a052f047c8b5028f46d9ed6a6e": {
          "model_module": "@jupyter-widgets/base",
          "model_name": "LayoutModel",
          "model_module_version": "1.2.0",
          "state": {
            "_model_module": "@jupyter-widgets/base",
            "_model_module_version": "1.2.0",
            "_model_name": "LayoutModel",
            "_view_count": null,
            "_view_module": "@jupyter-widgets/base",
            "_view_module_version": "1.2.0",
            "_view_name": "LayoutView",
            "align_content": null,
            "align_items": null,
            "align_self": null,
            "border": null,
            "bottom": null,
            "display": null,
            "flex": null,
            "flex_flow": null,
            "grid_area": null,
            "grid_auto_columns": null,
            "grid_auto_flow": null,
            "grid_auto_rows": null,
            "grid_column": null,
            "grid_gap": null,
            "grid_row": null,
            "grid_template_areas": null,
            "grid_template_columns": null,
            "grid_template_rows": null,
            "height": null,
            "justify_content": null,
            "justify_items": null,
            "left": null,
            "margin": null,
            "max_height": null,
            "max_width": null,
            "min_height": null,
            "min_width": null,
            "object_fit": null,
            "object_position": null,
            "order": null,
            "overflow": null,
            "overflow_x": null,
            "overflow_y": null,
            "padding": null,
            "right": null,
            "top": null,
            "visibility": null,
            "width": null
          }
        },
        "fcb68686e97c4e8eba4df33a7d452748": {
          "model_module": "@jupyter-widgets/controls",
          "model_name": "ProgressStyleModel",
          "model_module_version": "1.5.0",
          "state": {
            "_model_module": "@jupyter-widgets/controls",
            "_model_module_version": "1.5.0",
            "_model_name": "ProgressStyleModel",
            "_view_count": null,
            "_view_module": "@jupyter-widgets/base",
            "_view_module_version": "1.2.0",
            "_view_name": "StyleView",
            "bar_color": null,
            "description_width": ""
          }
        },
        "3342f1cb32a74b9fb3a643818f123088": {
          "model_module": "@jupyter-widgets/base",
          "model_name": "LayoutModel",
          "model_module_version": "1.2.0",
          "state": {
            "_model_module": "@jupyter-widgets/base",
            "_model_module_version": "1.2.0",
            "_model_name": "LayoutModel",
            "_view_count": null,
            "_view_module": "@jupyter-widgets/base",
            "_view_module_version": "1.2.0",
            "_view_name": "LayoutView",
            "align_content": null,
            "align_items": null,
            "align_self": null,
            "border": null,
            "bottom": null,
            "display": null,
            "flex": null,
            "flex_flow": null,
            "grid_area": null,
            "grid_auto_columns": null,
            "grid_auto_flow": null,
            "grid_auto_rows": null,
            "grid_column": null,
            "grid_gap": null,
            "grid_row": null,
            "grid_template_areas": null,
            "grid_template_columns": null,
            "grid_template_rows": null,
            "height": null,
            "justify_content": null,
            "justify_items": null,
            "left": null,
            "margin": null,
            "max_height": null,
            "max_width": null,
            "min_height": null,
            "min_width": null,
            "object_fit": null,
            "object_position": null,
            "order": null,
            "overflow": null,
            "overflow_x": null,
            "overflow_y": null,
            "padding": null,
            "right": null,
            "top": null,
            "visibility": null,
            "width": null
          }
        },
        "b42cabda1fc44ca19b522be0d1032cb1": {
          "model_module": "@jupyter-widgets/controls",
          "model_name": "DescriptionStyleModel",
          "model_module_version": "1.5.0",
          "state": {
            "_model_module": "@jupyter-widgets/controls",
            "_model_module_version": "1.5.0",
            "_model_name": "DescriptionStyleModel",
            "_view_count": null,
            "_view_module": "@jupyter-widgets/base",
            "_view_module_version": "1.2.0",
            "_view_name": "StyleView",
            "description_width": ""
          }
        },
        "15e0be4023bc44ecb877c9813185300f": {
          "model_module": "@jupyter-widgets/controls",
          "model_name": "HBoxModel",
          "model_module_version": "1.5.0",
          "state": {
            "_dom_classes": [],
            "_model_module": "@jupyter-widgets/controls",
            "_model_module_version": "1.5.0",
            "_model_name": "HBoxModel",
            "_view_count": null,
            "_view_module": "@jupyter-widgets/controls",
            "_view_module_version": "1.5.0",
            "_view_name": "HBoxView",
            "box_style": "",
            "children": [
              "IPY_MODEL_a97d3ce67d3744a8a3a524a06e9a8601",
              "IPY_MODEL_20ec2bee19e44528bf6e9d5855a32529",
              "IPY_MODEL_df88659dad53492db72e6d6550b2df1d"
            ],
            "layout": "IPY_MODEL_d4d0198591904eb1ac0452287b3a7d0e"
          }
        },
        "a97d3ce67d3744a8a3a524a06e9a8601": {
          "model_module": "@jupyter-widgets/controls",
          "model_name": "HTMLModel",
          "model_module_version": "1.5.0",
          "state": {
            "_dom_classes": [],
            "_model_module": "@jupyter-widgets/controls",
            "_model_module_version": "1.5.0",
            "_model_name": "HTMLModel",
            "_view_count": null,
            "_view_module": "@jupyter-widgets/controls",
            "_view_module_version": "1.5.0",
            "_view_name": "HTMLView",
            "description": "",
            "description_tooltip": null,
            "layout": "IPY_MODEL_4c2d600230384a81bdfab481f3723fef",
            "placeholder": "​",
            "style": "IPY_MODEL_1228b968be88425c87a03a1d53b7f16c",
            "value": "Generating validation split: 100%"
          }
        },
        "20ec2bee19e44528bf6e9d5855a32529": {
          "model_module": "@jupyter-widgets/controls",
          "model_name": "FloatProgressModel",
          "model_module_version": "1.5.0",
          "state": {
            "_dom_classes": [],
            "_model_module": "@jupyter-widgets/controls",
            "_model_module_version": "1.5.0",
            "_model_name": "FloatProgressModel",
            "_view_count": null,
            "_view_module": "@jupyter-widgets/controls",
            "_view_module_version": "1.5.0",
            "_view_name": "ProgressView",
            "bar_style": "success",
            "description": "",
            "description_tooltip": null,
            "layout": "IPY_MODEL_1d6d4b3841fd4a24990ea19b716eaf29",
            "max": 1000,
            "min": 0,
            "orientation": "horizontal",
            "style": "IPY_MODEL_7f72fcb9ba5342fda0d47cff6735ce2f",
            "value": 1000
          }
        },
        "df88659dad53492db72e6d6550b2df1d": {
          "model_module": "@jupyter-widgets/controls",
          "model_name": "HTMLModel",
          "model_module_version": "1.5.0",
          "state": {
            "_dom_classes": [],
            "_model_module": "@jupyter-widgets/controls",
            "_model_module_version": "1.5.0",
            "_model_name": "HTMLModel",
            "_view_count": null,
            "_view_module": "@jupyter-widgets/controls",
            "_view_module_version": "1.5.0",
            "_view_name": "HTMLView",
            "description": "",
            "description_tooltip": null,
            "layout": "IPY_MODEL_ca9a8602bc0d4ae88e2182cc704a4511",
            "placeholder": "​",
            "style": "IPY_MODEL_17753402c1104fde877a1a19aeb437dd",
            "value": " 1000/1000 [00:00&lt;00:00, 5632.49 examples/s]"
          }
        },
        "d4d0198591904eb1ac0452287b3a7d0e": {
          "model_module": "@jupyter-widgets/base",
          "model_name": "LayoutModel",
          "model_module_version": "1.2.0",
          "state": {
            "_model_module": "@jupyter-widgets/base",
            "_model_module_version": "1.2.0",
            "_model_name": "LayoutModel",
            "_view_count": null,
            "_view_module": "@jupyter-widgets/base",
            "_view_module_version": "1.2.0",
            "_view_name": "LayoutView",
            "align_content": null,
            "align_items": null,
            "align_self": null,
            "border": null,
            "bottom": null,
            "display": null,
            "flex": null,
            "flex_flow": null,
            "grid_area": null,
            "grid_auto_columns": null,
            "grid_auto_flow": null,
            "grid_auto_rows": null,
            "grid_column": null,
            "grid_gap": null,
            "grid_row": null,
            "grid_template_areas": null,
            "grid_template_columns": null,
            "grid_template_rows": null,
            "height": null,
            "justify_content": null,
            "justify_items": null,
            "left": null,
            "margin": null,
            "max_height": null,
            "max_width": null,
            "min_height": null,
            "min_width": null,
            "object_fit": null,
            "object_position": null,
            "order": null,
            "overflow": null,
            "overflow_x": null,
            "overflow_y": null,
            "padding": null,
            "right": null,
            "top": null,
            "visibility": null,
            "width": null
          }
        },
        "4c2d600230384a81bdfab481f3723fef": {
          "model_module": "@jupyter-widgets/base",
          "model_name": "LayoutModel",
          "model_module_version": "1.2.0",
          "state": {
            "_model_module": "@jupyter-widgets/base",
            "_model_module_version": "1.2.0",
            "_model_name": "LayoutModel",
            "_view_count": null,
            "_view_module": "@jupyter-widgets/base",
            "_view_module_version": "1.2.0",
            "_view_name": "LayoutView",
            "align_content": null,
            "align_items": null,
            "align_self": null,
            "border": null,
            "bottom": null,
            "display": null,
            "flex": null,
            "flex_flow": null,
            "grid_area": null,
            "grid_auto_columns": null,
            "grid_auto_flow": null,
            "grid_auto_rows": null,
            "grid_column": null,
            "grid_gap": null,
            "grid_row": null,
            "grid_template_areas": null,
            "grid_template_columns": null,
            "grid_template_rows": null,
            "height": null,
            "justify_content": null,
            "justify_items": null,
            "left": null,
            "margin": null,
            "max_height": null,
            "max_width": null,
            "min_height": null,
            "min_width": null,
            "object_fit": null,
            "object_position": null,
            "order": null,
            "overflow": null,
            "overflow_x": null,
            "overflow_y": null,
            "padding": null,
            "right": null,
            "top": null,
            "visibility": null,
            "width": null
          }
        },
        "1228b968be88425c87a03a1d53b7f16c": {
          "model_module": "@jupyter-widgets/controls",
          "model_name": "DescriptionStyleModel",
          "model_module_version": "1.5.0",
          "state": {
            "_model_module": "@jupyter-widgets/controls",
            "_model_module_version": "1.5.0",
            "_model_name": "DescriptionStyleModel",
            "_view_count": null,
            "_view_module": "@jupyter-widgets/base",
            "_view_module_version": "1.2.0",
            "_view_name": "StyleView",
            "description_width": ""
          }
        },
        "1d6d4b3841fd4a24990ea19b716eaf29": {
          "model_module": "@jupyter-widgets/base",
          "model_name": "LayoutModel",
          "model_module_version": "1.2.0",
          "state": {
            "_model_module": "@jupyter-widgets/base",
            "_model_module_version": "1.2.0",
            "_model_name": "LayoutModel",
            "_view_count": null,
            "_view_module": "@jupyter-widgets/base",
            "_view_module_version": "1.2.0",
            "_view_name": "LayoutView",
            "align_content": null,
            "align_items": null,
            "align_self": null,
            "border": null,
            "bottom": null,
            "display": null,
            "flex": null,
            "flex_flow": null,
            "grid_area": null,
            "grid_auto_columns": null,
            "grid_auto_flow": null,
            "grid_auto_rows": null,
            "grid_column": null,
            "grid_gap": null,
            "grid_row": null,
            "grid_template_areas": null,
            "grid_template_columns": null,
            "grid_template_rows": null,
            "height": null,
            "justify_content": null,
            "justify_items": null,
            "left": null,
            "margin": null,
            "max_height": null,
            "max_width": null,
            "min_height": null,
            "min_width": null,
            "object_fit": null,
            "object_position": null,
            "order": null,
            "overflow": null,
            "overflow_x": null,
            "overflow_y": null,
            "padding": null,
            "right": null,
            "top": null,
            "visibility": null,
            "width": null
          }
        },
        "7f72fcb9ba5342fda0d47cff6735ce2f": {
          "model_module": "@jupyter-widgets/controls",
          "model_name": "ProgressStyleModel",
          "model_module_version": "1.5.0",
          "state": {
            "_model_module": "@jupyter-widgets/controls",
            "_model_module_version": "1.5.0",
            "_model_name": "ProgressStyleModel",
            "_view_count": null,
            "_view_module": "@jupyter-widgets/base",
            "_view_module_version": "1.2.0",
            "_view_name": "StyleView",
            "bar_color": null,
            "description_width": ""
          }
        },
        "ca9a8602bc0d4ae88e2182cc704a4511": {
          "model_module": "@jupyter-widgets/base",
          "model_name": "LayoutModel",
          "model_module_version": "1.2.0",
          "state": {
            "_model_module": "@jupyter-widgets/base",
            "_model_module_version": "1.2.0",
            "_model_name": "LayoutModel",
            "_view_count": null,
            "_view_module": "@jupyter-widgets/base",
            "_view_module_version": "1.2.0",
            "_view_name": "LayoutView",
            "align_content": null,
            "align_items": null,
            "align_self": null,
            "border": null,
            "bottom": null,
            "display": null,
            "flex": null,
            "flex_flow": null,
            "grid_area": null,
            "grid_auto_columns": null,
            "grid_auto_flow": null,
            "grid_auto_rows": null,
            "grid_column": null,
            "grid_gap": null,
            "grid_row": null,
            "grid_template_areas": null,
            "grid_template_columns": null,
            "grid_template_rows": null,
            "height": null,
            "justify_content": null,
            "justify_items": null,
            "left": null,
            "margin": null,
            "max_height": null,
            "max_width": null,
            "min_height": null,
            "min_width": null,
            "object_fit": null,
            "object_position": null,
            "order": null,
            "overflow": null,
            "overflow_x": null,
            "overflow_y": null,
            "padding": null,
            "right": null,
            "top": null,
            "visibility": null,
            "width": null
          }
        },
        "17753402c1104fde877a1a19aeb437dd": {
          "model_module": "@jupyter-widgets/controls",
          "model_name": "DescriptionStyleModel",
          "model_module_version": "1.5.0",
          "state": {
            "_model_module": "@jupyter-widgets/controls",
            "_model_module_version": "1.5.0",
            "_model_name": "DescriptionStyleModel",
            "_view_count": null,
            "_view_module": "@jupyter-widgets/base",
            "_view_module_version": "1.2.0",
            "_view_name": "StyleView",
            "description_width": ""
          }
        }
      }
    }
  },
  "cells": [
    {
      "cell_type": "code",
      "execution_count": null,
      "metadata": {
        "colab": {
          "base_uri": "https://localhost:8080/"
        },
        "id": "F91REZoFywAR",
        "outputId": "48839ce6-5d7d-4e7e-cf44-c9a5775d2636"
      },
      "outputs": [
        {
          "output_type": "stream",
          "name": "stdout",
          "text": [
            "Requirement already satisfied: datasets in /usr/local/lib/python3.12/dist-packages (4.0.0)\n",
            "Requirement already satisfied: filelock in /usr/local/lib/python3.12/dist-packages (from datasets) (3.19.1)\n",
            "Requirement already satisfied: numpy>=1.17 in /usr/local/lib/python3.12/dist-packages (from datasets) (2.0.2)\n",
            "Requirement already satisfied: pyarrow>=15.0.0 in /usr/local/lib/python3.12/dist-packages (from datasets) (18.1.0)\n",
            "Requirement already satisfied: dill<0.3.9,>=0.3.0 in /usr/local/lib/python3.12/dist-packages (from datasets) (0.3.8)\n",
            "Requirement already satisfied: pandas in /usr/local/lib/python3.12/dist-packages (from datasets) (2.2.2)\n",
            "Requirement already satisfied: requests>=2.32.2 in /usr/local/lib/python3.12/dist-packages (from datasets) (2.32.4)\n",
            "Requirement already satisfied: tqdm>=4.66.3 in /usr/local/lib/python3.12/dist-packages (from datasets) (4.67.1)\n",
            "Requirement already satisfied: xxhash in /usr/local/lib/python3.12/dist-packages (from datasets) (3.5.0)\n",
            "Requirement already satisfied: multiprocess<0.70.17 in /usr/local/lib/python3.12/dist-packages (from datasets) (0.70.16)\n",
            "Requirement already satisfied: fsspec<=2025.3.0,>=2023.1.0 in /usr/local/lib/python3.12/dist-packages (from fsspec[http]<=2025.3.0,>=2023.1.0->datasets) (2025.3.0)\n",
            "Requirement already satisfied: huggingface-hub>=0.24.0 in /usr/local/lib/python3.12/dist-packages (from datasets) (0.34.4)\n",
            "Requirement already satisfied: packaging in /usr/local/lib/python3.12/dist-packages (from datasets) (25.0)\n",
            "Requirement already satisfied: pyyaml>=5.1 in /usr/local/lib/python3.12/dist-packages (from datasets) (6.0.2)\n",
            "Requirement already satisfied: aiohttp!=4.0.0a0,!=4.0.0a1 in /usr/local/lib/python3.12/dist-packages (from fsspec[http]<=2025.3.0,>=2023.1.0->datasets) (3.12.15)\n",
            "Requirement already satisfied: typing-extensions>=3.7.4.3 in /usr/local/lib/python3.12/dist-packages (from huggingface-hub>=0.24.0->datasets) (4.15.0)\n",
            "Requirement already satisfied: hf-xet<2.0.0,>=1.1.3 in /usr/local/lib/python3.12/dist-packages (from huggingface-hub>=0.24.0->datasets) (1.1.9)\n",
            "Requirement already satisfied: charset_normalizer<4,>=2 in /usr/local/lib/python3.12/dist-packages (from requests>=2.32.2->datasets) (3.4.3)\n",
            "Requirement already satisfied: idna<4,>=2.5 in /usr/local/lib/python3.12/dist-packages (from requests>=2.32.2->datasets) (3.10)\n",
            "Requirement already satisfied: urllib3<3,>=1.21.1 in /usr/local/lib/python3.12/dist-packages (from requests>=2.32.2->datasets) (2.5.0)\n",
            "Requirement already satisfied: certifi>=2017.4.17 in /usr/local/lib/python3.12/dist-packages (from requests>=2.32.2->datasets) (2025.8.3)\n",
            "Requirement already satisfied: python-dateutil>=2.8.2 in /usr/local/lib/python3.12/dist-packages (from pandas->datasets) (2.9.0.post0)\n",
            "Requirement already satisfied: pytz>=2020.1 in /usr/local/lib/python3.12/dist-packages (from pandas->datasets) (2025.2)\n",
            "Requirement already satisfied: tzdata>=2022.7 in /usr/local/lib/python3.12/dist-packages (from pandas->datasets) (2025.2)\n",
            "Requirement already satisfied: aiohappyeyeballs>=2.5.0 in /usr/local/lib/python3.12/dist-packages (from aiohttp!=4.0.0a0,!=4.0.0a1->fsspec[http]<=2025.3.0,>=2023.1.0->datasets) (2.6.1)\n",
            "Requirement already satisfied: aiosignal>=1.4.0 in /usr/local/lib/python3.12/dist-packages (from aiohttp!=4.0.0a0,!=4.0.0a1->fsspec[http]<=2025.3.0,>=2023.1.0->datasets) (1.4.0)\n",
            "Requirement already satisfied: attrs>=17.3.0 in /usr/local/lib/python3.12/dist-packages (from aiohttp!=4.0.0a0,!=4.0.0a1->fsspec[http]<=2025.3.0,>=2023.1.0->datasets) (25.3.0)\n",
            "Requirement already satisfied: frozenlist>=1.1.1 in /usr/local/lib/python3.12/dist-packages (from aiohttp!=4.0.0a0,!=4.0.0a1->fsspec[http]<=2025.3.0,>=2023.1.0->datasets) (1.7.0)\n",
            "Requirement already satisfied: multidict<7.0,>=4.5 in /usr/local/lib/python3.12/dist-packages (from aiohttp!=4.0.0a0,!=4.0.0a1->fsspec[http]<=2025.3.0,>=2023.1.0->datasets) (6.6.4)\n",
            "Requirement already satisfied: propcache>=0.2.0 in /usr/local/lib/python3.12/dist-packages (from aiohttp!=4.0.0a0,!=4.0.0a1->fsspec[http]<=2025.3.0,>=2023.1.0->datasets) (0.3.2)\n",
            "Requirement already satisfied: yarl<2.0,>=1.17.0 in /usr/local/lib/python3.12/dist-packages (from aiohttp!=4.0.0a0,!=4.0.0a1->fsspec[http]<=2025.3.0,>=2023.1.0->datasets) (1.20.1)\n",
            "Requirement already satisfied: six>=1.5 in /usr/local/lib/python3.12/dist-packages (from python-dateutil>=2.8.2->pandas->datasets) (1.17.0)\n"
          ]
        }
      ],
      "source": [
        "pip install datasets\n"
      ]
    },
    {
      "cell_type": "code",
      "source": [
        "from datasets import load_dataset\n",
        "\n",
        "# Load dataset\n",
        "dataset = load_dataset(\"lex_glue\", \"ecthr_b\")\n",
        "\n",
        "# Convert splits to Pandas DataFrame\n",
        "df_train = dataset[\"train\"].to_pandas()\n",
        "df_valid = dataset[\"validation\"].to_pandas()\n",
        "df_test  = dataset[\"test\"].to_pandas()\n",
        "\n",
        "# Check first few rows\n",
        "print(df_train.head())"
      ],
      "metadata": {
        "colab": {
          "base_uri": "https://localhost:8080/",
          "height": 469,
          "referenced_widgets": [
            "d3b6060d69aa465cae400520050cca42",
            "c08083f62c694e97a55451d36cff15e8",
            "b20dfa6a191b4fd082a5ba6a7529ab86",
            "1427db91ec4740a9b9ac555185b82a4f",
            "6d400fde25474211b87853f9cb937b3c",
            "85e8bfb227d941beb5aabbc8a0bb84d5",
            "6ba87af69ff34a4288362bddf88a303e",
            "8bea179c93bf4d8ab767701025cb9ca3",
            "ec9efe5a1a9949c38c8ee078b49a2c67",
            "4dac5f58718b480c9081505ff4095d1f",
            "c125a3be0fa3477689e18981908d3b1e",
            "e423f66b662544678a3d47deae65f79f",
            "62be645bc96c46bf9297eddcb08013d6",
            "13fbfe7f2a484161b15dd4c4dbdbe819",
            "57692d139a764eb0a9c7cae8661547e1",
            "683d20064f65437f90199fbbaf3c6167",
            "71c62b54d4024d5aaf64736fdd001b37",
            "9e6780ba670341fc831d7672dc9c9505",
            "9df9da258d8f4ce09944624216fb21cb",
            "340e4473b9ad4882987e71791ee39cfa",
            "0d0f995343984d1d82f4681f743a265f",
            "82883369deea4313b05b4bb1b6410d94",
            "be61df19563b4d78a883ab77cd85414b",
            "9c8c65cc95d4422bab52d66ee478df88",
            "d334c7b93b994e42bec75bec5f25cdac",
            "72d0950832824beaa157b549d0d1b3bc",
            "57463a6b262d454a84f73f6517524891",
            "7fe1796c03514d5ba424cee00965d27b",
            "4e87ef0759ae46dca85b8c2044e70038",
            "ad6729f6511b490d81ed34b606696d48",
            "dbf94e29525d4e5ba2c60ff3abb1390e",
            "dd0ca168c81e4fbe8856fed64be0557a",
            "2f6753ba760d43b1ad7ed42e46c39513",
            "67ede88b6baf44a6acad0d6eb8d7f624",
            "9c81bf46ebe0445bbaeb7a04c3d5f869",
            "d6d9d39b96e04e4aa8b938efdce26d25",
            "326e68083bf04daab52221d5ef9dbd6c",
            "145aa4273bc845fb8114f657d46aea0f",
            "0970fdc27abf48f3bcc2ab4c34fbece1",
            "5ff3f4993b9c40f7b3f09ce759b58456",
            "3e36555c2e1e488b84ff59d8168503db",
            "4a7664d57aee430ebbbc9bbee51571b1",
            "cfc46ce0fe944c719367d15901fd7b35",
            "5c3bb4a54eb44e409c7291075c8ab895",
            "f547cbc72b2145ad9f9da126fad5a7af",
            "5daf46adc6054d16b5e3db5259c03c11",
            "35fa0f7726d342959b244c00eff0f9b8",
            "619d8d665bd44dada8fd353a950e2780",
            "6c670976487248a5aded4becb9ace6cb",
            "556b9f0d946042148c12210d05292d6d",
            "1fb3948434bc4920b1d2172fb7db1a20",
            "3364594df1b2482dbdfe1f5fa0f6307a",
            "897e022b01e744998597c5adc976e46e",
            "e7af8eabae3141d788631fb2250943ed",
            "a1515be82c404fd5920e102484ea4527",
            "2e87460a18984085b8bd75ac32b65826",
            "13d5e3a7c41e40c99c65df6e6d0fedd8",
            "eb83d76a28e049b0b5273a9aa7929153",
            "896e05d4c15b428a8a6a02707781ed11",
            "b36fbf7b080240b197b503207d36c20d",
            "d03791a82e964e9fae670cf75623b3d8",
            "b00a66b0c4fa4c2b9ef2a9fe2954a910",
            "948344a052f047c8b5028f46d9ed6a6e",
            "fcb68686e97c4e8eba4df33a7d452748",
            "3342f1cb32a74b9fb3a643818f123088",
            "b42cabda1fc44ca19b522be0d1032cb1",
            "15e0be4023bc44ecb877c9813185300f",
            "a97d3ce67d3744a8a3a524a06e9a8601",
            "20ec2bee19e44528bf6e9d5855a32529",
            "df88659dad53492db72e6d6550b2df1d",
            "d4d0198591904eb1ac0452287b3a7d0e",
            "4c2d600230384a81bdfab481f3723fef",
            "1228b968be88425c87a03a1d53b7f16c",
            "1d6d4b3841fd4a24990ea19b716eaf29",
            "7f72fcb9ba5342fda0d47cff6735ce2f",
            "ca9a8602bc0d4ae88e2182cc704a4511",
            "17753402c1104fde877a1a19aeb437dd"
          ]
        },
        "id": "UxhOW6xsyxri",
        "outputId": "12b29e81-155e-4ab0-f334-b4b62bda0117"
      },
      "execution_count": null,
      "outputs": [
        {
          "output_type": "stream",
          "name": "stderr",
          "text": [
            "/usr/local/lib/python3.12/dist-packages/huggingface_hub/utils/_auth.py:94: UserWarning: \n",
            "The secret `HF_TOKEN` does not exist in your Colab secrets.\n",
            "To authenticate with the Hugging Face Hub, create a token in your settings tab (https://huggingface.co/settings/tokens), set it as secret in your Google Colab and restart your session.\n",
            "You will be able to reuse this secret in all of your notebooks.\n",
            "Please note that authentication is recommended but still optional to access public models or datasets.\n",
            "  warnings.warn(\n"
          ]
        },
        {
          "output_type": "display_data",
          "data": {
            "text/plain": [
              "README.md: 0.00B [00:00, ?B/s]"
            ],
            "application/vnd.jupyter.widget-view+json": {
              "version_major": 2,
              "version_minor": 0,
              "model_id": "d3b6060d69aa465cae400520050cca42"
            }
          },
          "metadata": {}
        },
        {
          "output_type": "display_data",
          "data": {
            "text/plain": [
              "ecthr_b/train-00000-of-00001.parquet:   0%|          | 0.00/42.4M [00:00<?, ?B/s]"
            ],
            "application/vnd.jupyter.widget-view+json": {
              "version_major": 2,
              "version_minor": 0,
              "model_id": "e423f66b662544678a3d47deae65f79f"
            }
          },
          "metadata": {}
        },
        {
          "output_type": "display_data",
          "data": {
            "text/plain": [
              "ecthr_b/test-00000-of-00001.parquet:   0%|          | 0.00/5.68M [00:00<?, ?B/s]"
            ],
            "application/vnd.jupyter.widget-view+json": {
              "version_major": 2,
              "version_minor": 0,
              "model_id": "be61df19563b4d78a883ab77cd85414b"
            }
          },
          "metadata": {}
        },
        {
          "output_type": "display_data",
          "data": {
            "text/plain": [
              "ecthr_b/validation-00000-of-00001.parque(…):   0%|          | 0.00/5.26M [00:00<?, ?B/s]"
            ],
            "application/vnd.jupyter.widget-view+json": {
              "version_major": 2,
              "version_minor": 0,
              "model_id": "67ede88b6baf44a6acad0d6eb8d7f624"
            }
          },
          "metadata": {}
        },
        {
          "output_type": "display_data",
          "data": {
            "text/plain": [
              "Generating train split:   0%|          | 0/9000 [00:00<?, ? examples/s]"
            ],
            "application/vnd.jupyter.widget-view+json": {
              "version_major": 2,
              "version_minor": 0,
              "model_id": "f547cbc72b2145ad9f9da126fad5a7af"
            }
          },
          "metadata": {}
        },
        {
          "output_type": "display_data",
          "data": {
            "text/plain": [
              "Generating test split:   0%|          | 0/1000 [00:00<?, ? examples/s]"
            ],
            "application/vnd.jupyter.widget-view+json": {
              "version_major": 2,
              "version_minor": 0,
              "model_id": "2e87460a18984085b8bd75ac32b65826"
            }
          },
          "metadata": {}
        },
        {
          "output_type": "display_data",
          "data": {
            "text/plain": [
              "Generating validation split:   0%|          | 0/1000 [00:00<?, ? examples/s]"
            ],
            "application/vnd.jupyter.widget-view+json": {
              "version_major": 2,
              "version_minor": 0,
              "model_id": "15e0be4023bc44ecb877c9813185300f"
            }
          },
          "metadata": {}
        },
        {
          "output_type": "stream",
          "name": "stdout",
          "text": [
            "                                                text     labels\n",
            "0  [11.  At the beginning of the events relevant ...        [4]\n",
            "1  [9.  The applicant is the monarch of Liechtens...  [8, 3, 9]\n",
            "2  [9.  In June 1949 plots of agricultural land o...        [3]\n",
            "3  [8.  In 1991 Mr Dušan Slobodník, a research wo...  [6, 8, 5]\n",
            "4  [9.  The applicant is an Italian citizen, born...     [8, 3]\n"
          ]
        }
      ]
    },
    {
      "cell_type": "code",
      "source": [
        "# Save DataFrames as CSV\n",
        "df_train.to_csv(\"ecthr_b_train.csv\", index=False)\n",
        "df_valid.to_csv(\"ecthr_b_valid.csv\", index=False)\n",
        "df_test.to_csv(\"ecthr_b_test.csv\", index=False)\n"
      ],
      "metadata": {
        "id": "pqaStmV8zVjI"
      },
      "execution_count": null,
      "outputs": []
    },
    {
      "cell_type": "code",
      "source": [
        "from google.colab import files\n",
        "\n",
        "# Download files to your local device\n",
        "files.download(\"ecthr_b_train.csv\")\n",
        "files.download(\"ecthr_b_valid.csv\")\n",
        "files.download(\"ecthr_b_test.csv\")\n"
      ],
      "metadata": {
        "colab": {
          "base_uri": "https://localhost:8080/",
          "height": 17
        },
        "id": "3M6uB6q8y9L0",
        "outputId": "e218468e-82f8-4d8c-f07e-d4dbfe7c4c62"
      },
      "execution_count": null,
      "outputs": [
        {
          "output_type": "display_data",
          "data": {
            "text/plain": [
              "<IPython.core.display.Javascript object>"
            ],
            "application/javascript": [
              "\n",
              "    async function download(id, filename, size) {\n",
              "      if (!google.colab.kernel.accessAllowed) {\n",
              "        return;\n",
              "      }\n",
              "      const div = document.createElement('div');\n",
              "      const label = document.createElement('label');\n",
              "      label.textContent = `Downloading \"${filename}\": `;\n",
              "      div.appendChild(label);\n",
              "      const progress = document.createElement('progress');\n",
              "      progress.max = size;\n",
              "      div.appendChild(progress);\n",
              "      document.body.appendChild(div);\n",
              "\n",
              "      const buffers = [];\n",
              "      let downloaded = 0;\n",
              "\n",
              "      const channel = await google.colab.kernel.comms.open(id);\n",
              "      // Send a message to notify the kernel that we're ready.\n",
              "      channel.send({})\n",
              "\n",
              "      for await (const message of channel.messages) {\n",
              "        // Send a message to notify the kernel that we're ready.\n",
              "        channel.send({})\n",
              "        if (message.buffers) {\n",
              "          for (const buffer of message.buffers) {\n",
              "            buffers.push(buffer);\n",
              "            downloaded += buffer.byteLength;\n",
              "            progress.value = downloaded;\n",
              "          }\n",
              "        }\n",
              "      }\n",
              "      const blob = new Blob(buffers, {type: 'application/binary'});\n",
              "      const a = document.createElement('a');\n",
              "      a.href = window.URL.createObjectURL(blob);\n",
              "      a.download = filename;\n",
              "      div.appendChild(a);\n",
              "      a.click();\n",
              "      div.remove();\n",
              "    }\n",
              "  "
            ]
          },
          "metadata": {}
        },
        {
          "output_type": "display_data",
          "data": {
            "text/plain": [
              "<IPython.core.display.Javascript object>"
            ],
            "application/javascript": [
              "download(\"download_c474bb76-7143-4ff0-8e80-166ff2b1c15f\", \"ecthr_b_train.csv\", 89663194)"
            ]
          },
          "metadata": {}
        },
        {
          "output_type": "display_data",
          "data": {
            "text/plain": [
              "<IPython.core.display.Javascript object>"
            ],
            "application/javascript": [
              "\n",
              "    async function download(id, filename, size) {\n",
              "      if (!google.colab.kernel.accessAllowed) {\n",
              "        return;\n",
              "      }\n",
              "      const div = document.createElement('div');\n",
              "      const label = document.createElement('label');\n",
              "      label.textContent = `Downloading \"${filename}\": `;\n",
              "      div.appendChild(label);\n",
              "      const progress = document.createElement('progress');\n",
              "      progress.max = size;\n",
              "      div.appendChild(progress);\n",
              "      document.body.appendChild(div);\n",
              "\n",
              "      const buffers = [];\n",
              "      let downloaded = 0;\n",
              "\n",
              "      const channel = await google.colab.kernel.comms.open(id);\n",
              "      // Send a message to notify the kernel that we're ready.\n",
              "      channel.send({})\n",
              "\n",
              "      for await (const message of channel.messages) {\n",
              "        // Send a message to notify the kernel that we're ready.\n",
              "        channel.send({})\n",
              "        if (message.buffers) {\n",
              "          for (const buffer of message.buffers) {\n",
              "            buffers.push(buffer);\n",
              "            downloaded += buffer.byteLength;\n",
              "            progress.value = downloaded;\n",
              "          }\n",
              "        }\n",
              "      }\n",
              "      const blob = new Blob(buffers, {type: 'application/binary'});\n",
              "      const a = document.createElement('a');\n",
              "      a.href = window.URL.createObjectURL(blob);\n",
              "      a.download = filename;\n",
              "      div.appendChild(a);\n",
              "      a.click();\n",
              "      div.remove();\n",
              "    }\n",
              "  "
            ]
          },
          "metadata": {}
        },
        {
          "output_type": "display_data",
          "data": {
            "text/plain": [
              "<IPython.core.display.Javascript object>"
            ],
            "application/javascript": [
              "download(\"download_05500b23-1a9a-41cd-8234-102521cfaae6\", \"ecthr_b_valid.csv\", 10982318)"
            ]
          },
          "metadata": {}
        },
        {
          "output_type": "display_data",
          "data": {
            "text/plain": [
              "<IPython.core.display.Javascript object>"
            ],
            "application/javascript": [
              "\n",
              "    async function download(id, filename, size) {\n",
              "      if (!google.colab.kernel.accessAllowed) {\n",
              "        return;\n",
              "      }\n",
              "      const div = document.createElement('div');\n",
              "      const label = document.createElement('label');\n",
              "      label.textContent = `Downloading \"${filename}\": `;\n",
              "      div.appendChild(label);\n",
              "      const progress = document.createElement('progress');\n",
              "      progress.max = size;\n",
              "      div.appendChild(progress);\n",
              "      document.body.appendChild(div);\n",
              "\n",
              "      const buffers = [];\n",
              "      let downloaded = 0;\n",
              "\n",
              "      const channel = await google.colab.kernel.comms.open(id);\n",
              "      // Send a message to notify the kernel that we're ready.\n",
              "      channel.send({})\n",
              "\n",
              "      for await (const message of channel.messages) {\n",
              "        // Send a message to notify the kernel that we're ready.\n",
              "        channel.send({})\n",
              "        if (message.buffers) {\n",
              "          for (const buffer of message.buffers) {\n",
              "            buffers.push(buffer);\n",
              "            downloaded += buffer.byteLength;\n",
              "            progress.value = downloaded;\n",
              "          }\n",
              "        }\n",
              "      }\n",
              "      const blob = new Blob(buffers, {type: 'application/binary'});\n",
              "      const a = document.createElement('a');\n",
              "      a.href = window.URL.createObjectURL(blob);\n",
              "      a.download = filename;\n",
              "      div.appendChild(a);\n",
              "      a.click();\n",
              "      div.remove();\n",
              "    }\n",
              "  "
            ]
          },
          "metadata": {}
        },
        {
          "output_type": "display_data",
          "data": {
            "text/plain": [
              "<IPython.core.display.Javascript object>"
            ],
            "application/javascript": [
              "download(\"download_4a79d5bc-e6d7-400a-bf93-efeea13dbb52\", \"ecthr_b_test.csv\", 11880849)"
            ]
          },
          "metadata": {}
        }
      ]
    },
    {
      "cell_type": "code",
      "source": [
        "print(df_train.head())"
      ],
      "metadata": {
        "colab": {
          "base_uri": "https://localhost:8080/"
        },
        "id": "rEtFJv8w4CWL",
        "outputId": "4b1de4b8-7d2f-4af2-a4dd-1f8e7e0d237c"
      },
      "execution_count": null,
      "outputs": [
        {
          "output_type": "stream",
          "name": "stdout",
          "text": [
            "                                                text     labels\n",
            "0  [11.  At the beginning of the events relevant ...        [4]\n",
            "1  [9.  The applicant is the monarch of Liechtens...  [8, 3, 9]\n",
            "2  [9.  In June 1949 plots of agricultural land o...        [3]\n",
            "3  [8.  In 1991 Mr Dušan Slobodník, a research wo...  [6, 8, 5]\n",
            "4  [9.  The applicant is an Italian citizen, born...     [8, 3]\n"
          ]
        }
      ]
    },
    {
      "cell_type": "code",
      "source": [
        "# Check number of rows and columns\n",
        "print(\"Train:\", df_train.shape)\n",
        "print(\"Validation:\", df_valid.shape)\n",
        "print(\"Test:\", df_test.shape)\n",
        "\n",
        "# Check column names\n",
        "print(df_train.columns)\n"
      ],
      "metadata": {
        "colab": {
          "base_uri": "https://localhost:8080/"
        },
        "id": "QcvyHmwu0H29",
        "outputId": "f53897a1-0e0c-466d-93a8-adb73c022a73"
      },
      "execution_count": null,
      "outputs": [
        {
          "output_type": "stream",
          "name": "stdout",
          "text": [
            "Train: (9000, 2)\n",
            "Validation: (1000, 2)\n",
            "Test: (1000, 2)\n",
            "Index(['text', 'labels'], dtype='object')\n"
          ]
        }
      ]
    },
    {
      "cell_type": "code",
      "source": [
        "print(\"Missing values in train:\\n\", df_train.isna().sum())\n",
        "print(\"Missing values in validation:\\n\", df_valid.isna().sum())\n",
        "print(\"Missing values in test:\\n\", df_test.isna().sum())\n"
      ],
      "metadata": {
        "colab": {
          "base_uri": "https://localhost:8080/"
        },
        "id": "EiXLrf4Z0jcW",
        "outputId": "f0f0df8a-65a1-4f9d-9f39-3ad225c2639d"
      },
      "execution_count": null,
      "outputs": [
        {
          "output_type": "stream",
          "name": "stdout",
          "text": [
            "Missing values in train:\n",
            " text      0\n",
            "labels    0\n",
            "dtype: int64\n",
            "Missing values in validation:\n",
            " text      0\n",
            "labels    0\n",
            "dtype: int64\n",
            "Missing values in test:\n",
            " text      0\n",
            "labels    0\n",
            "dtype: int64\n"
          ]
        }
      ]
    },
    {
      "cell_type": "code",
      "source": [
        "# Make copies to experiment\n",
        "df_train_copy = df_train.copy()\n",
        "df_valid_copy = df_valid.copy()\n",
        "df_test_copy  = df_test.copy()\n",
        "\n",
        "print(df_train_copy.head())\n"
      ],
      "metadata": {
        "colab": {
          "base_uri": "https://localhost:8080/"
        },
        "id": "-sK2pDIH3CDP",
        "outputId": "4bdecc83-47f7-4e49-c472-e80608a7dd71"
      },
      "execution_count": null,
      "outputs": [
        {
          "output_type": "stream",
          "name": "stdout",
          "text": [
            "                                                text     labels\n",
            "0  [11.  At the beginning of the events relevant ...        [4]\n",
            "1  [9.  The applicant is the monarch of Liechtens...  [8, 3, 9]\n",
            "2  [9.  In June 1949 plots of agricultural land o...        [3]\n",
            "3  [8.  In 1991 Mr Dušan Slobodník, a research wo...  [6, 8, 5]\n",
            "4  [9.  The applicant is an Italian citizen, born...     [8, 3]\n"
          ]
        }
      ]
    },
    {
      "cell_type": "code",
      "source": [],
      "metadata": {
        "id": "aAdhSCnB3JvP"
      },
      "execution_count": null,
      "outputs": []
    },
    {
      "cell_type": "code",
      "source": [
        "# Access the string element within the NumPy array and then lowercase it.\n",
        "df_train_copy['text']"
      ],
      "metadata": {
        "colab": {
          "base_uri": "https://localhost:8080/",
          "height": 458
        },
        "id": "2v7vt0tY7_IS",
        "outputId": "88a3211e-1da5-4533-a50f-a2654036f244"
      },
      "execution_count": null,
      "outputs": [
        {
          "output_type": "execute_result",
          "data": {
            "text/plain": [
              "0       [11.  At the beginning of the events relevant ...\n",
              "1       [9.  The applicant is the monarch of Liechtens...\n",
              "2       [9.  In June 1949 plots of agricultural land o...\n",
              "3       [8.  In 1991 Mr Dušan Slobodník, a research wo...\n",
              "4       [9.  The applicant is an Italian citizen, born...\n",
              "                              ...                        \n",
              "8995    [5.  The applicant was born in 1960 and lives ...\n",
              "8996    [5.  The applicant was born in 1946 and is cur...\n",
              "8997    [5.  The applicants are Russian nationals who,...\n",
              "8998    [8.  In all cases the applicants brought civil...\n",
              "8999    [4.  The applicant was born in 1971 and lives ...\n",
              "Name: text, Length: 9000, dtype: object"
            ],
            "text/html": [
              "<div>\n",
              "<style scoped>\n",
              "    .dataframe tbody tr th:only-of-type {\n",
              "        vertical-align: middle;\n",
              "    }\n",
              "\n",
              "    .dataframe tbody tr th {\n",
              "        vertical-align: top;\n",
              "    }\n",
              "\n",
              "    .dataframe thead th {\n",
              "        text-align: right;\n",
              "    }\n",
              "</style>\n",
              "<table border=\"1\" class=\"dataframe\">\n",
              "  <thead>\n",
              "    <tr style=\"text-align: right;\">\n",
              "      <th></th>\n",
              "      <th>text</th>\n",
              "    </tr>\n",
              "  </thead>\n",
              "  <tbody>\n",
              "    <tr>\n",
              "      <th>0</th>\n",
              "      <td>[11.  At the beginning of the events relevant ...</td>\n",
              "    </tr>\n",
              "    <tr>\n",
              "      <th>1</th>\n",
              "      <td>[9.  The applicant is the monarch of Liechtens...</td>\n",
              "    </tr>\n",
              "    <tr>\n",
              "      <th>2</th>\n",
              "      <td>[9.  In June 1949 plots of agricultural land o...</td>\n",
              "    </tr>\n",
              "    <tr>\n",
              "      <th>3</th>\n",
              "      <td>[8.  In 1991 Mr Dušan Slobodník, a research wo...</td>\n",
              "    </tr>\n",
              "    <tr>\n",
              "      <th>4</th>\n",
              "      <td>[9.  The applicant is an Italian citizen, born...</td>\n",
              "    </tr>\n",
              "    <tr>\n",
              "      <th>...</th>\n",
              "      <td>...</td>\n",
              "    </tr>\n",
              "    <tr>\n",
              "      <th>8995</th>\n",
              "      <td>[5.  The applicant was born in 1960 and lives ...</td>\n",
              "    </tr>\n",
              "    <tr>\n",
              "      <th>8996</th>\n",
              "      <td>[5.  The applicant was born in 1946 and is cur...</td>\n",
              "    </tr>\n",
              "    <tr>\n",
              "      <th>8997</th>\n",
              "      <td>[5.  The applicants are Russian nationals who,...</td>\n",
              "    </tr>\n",
              "    <tr>\n",
              "      <th>8998</th>\n",
              "      <td>[8.  In all cases the applicants brought civil...</td>\n",
              "    </tr>\n",
              "    <tr>\n",
              "      <th>8999</th>\n",
              "      <td>[4.  The applicant was born in 1971 and lives ...</td>\n",
              "    </tr>\n",
              "  </tbody>\n",
              "</table>\n",
              "<p>9000 rows × 1 columns</p>\n",
              "</div><br><label><b>dtype:</b> object</label>"
            ]
          },
          "metadata": {},
          "execution_count": 11
        }
      ]
    },
    {
      "cell_type": "code",
      "source": [
        "# Function to convert array to string and lowercase\n",
        "def array_to_lower(text):\n",
        "    # If text is a numpy array\n",
        "    if isinstance(text, (list, np.ndarray)):\n",
        "        text = \" \".join(str(t) for t in text)\n",
        "    return text.lower()\n",
        "\n",
        "import numpy as np\n",
        "\n",
        "# Apply all splits\n",
        "for df in [df_train_copy, df_valid_copy, df_test_copy]:\n",
        "    df[\"text\"] = df[\"text\"].apply(array_to_lower)\n",
        "\n",
        "\n",
        "print(df_train_copy.head())\n"
      ],
      "metadata": {
        "colab": {
          "base_uri": "https://localhost:8080/"
        },
        "id": "P0-6BaLJ-qJs",
        "outputId": "298910da-3565-4404-f027-4deb4c45b972"
      },
      "execution_count": null,
      "outputs": [
        {
          "output_type": "stream",
          "name": "stdout",
          "text": [
            "                                                text     labels\n",
            "0  11.  at the beginning of the events relevant t...        [4]\n",
            "1  9.  the applicant is the monarch of liechtenst...  [8, 3, 9]\n",
            "2  9.  in june 1949 plots of agricultural land ow...        [3]\n",
            "3  8.  in 1991 mr dušan slobodník, a research wor...  [6, 8, 5]\n",
            "4  9.  the applicant is an italian citizen, born ...     [8, 3]\n"
          ]
        }
      ]
    },
    {
      "cell_type": "code",
      "source": [
        "import numpy as np\n",
        "\n",
        "# Example: look at the first two rows of train\n",
        "for i in range(2):\n",
        "    text_cell = df_train[\"text\"][i]\n",
        "    print(f\"Row {i} type: {type(text_cell)}\")\n",
        "    print(f\"Row {i} content: {text_cell}\")\n",
        "    print(f\"Row {i} length: {len(text_cell)}\\n\")\n"
      ],
      "metadata": {
        "colab": {
          "base_uri": "https://localhost:8080/"
        },
        "id": "H8EUffl6Faw1",
        "outputId": "907884d0-c11f-4a37-e118-035b08d46749"
      },
      "execution_count": null,
      "outputs": [
        {
          "output_type": "stream",
          "name": "stdout",
          "text": [
            "Row 0 type: <class 'numpy.ndarray'>\n",
            "Row 0 content: ['11.  At the beginning of the events relevant to the application, K. had a daughter, P., and a son, M., born in 1986 and 1988 respectively. P.’s father is X and M.’s father is V. From March to May 1989 K. was voluntarily hospitalised for about three months, having been diagnosed as suffering from schizophrenia. From August to November 1989 and from December 1989 to March 1990, she was again hospitalised for periods of about three months on account of this illness. In 1991 she was hospitalised for less than a week, diagnosed as suffering from an atypical and undefinable psychosis. It appears that social welfare and health authorities have been in contact with the family since 1989.'\n",
            " '12.  The applicants initially cohabited from the summer of 1991 to July 1993. In 1991 both P. and M. were living with them. From 1991 to 1993 K. and X were involved in a custody and access dispute concerning P. In May 1992 a residence order was made transferring custody of P. to X.'\n",
            " '13.  K. was again hospitalised from 22 April to 7 May 1992, from 13 May to 10 June 1992, and from 11 to 17 January 1993, on account of psychoses. She was in compulsory care between 15 May and 10 June 1992. According to a medical report dated 15 May 1992, K. was paranoid and psychotic.'\n",
            " '14.  On 19 March 1993, according to the social welfare authorities’ records, a discussion took place between a social worker and K.’s mother. K.’s mother said that her daughter’s health condition was really bad and that K. had destroyed a childhood picture of hers, a wedding photo of the mother, broken a glass and “pierced the eyes” of all appearing in the photos. K.’s mother had said that she was tired of the situation, as she did not get any support from the mental health authorities. She added that she was worried and afraid that “again something must happen before K. is admitted to care”.\\nOn 24 March 1993 K. was placed under observation with a view to determining whether she should be placed in compulsory psychiatric care, having initially been diagnosed as suffering from psychosis. The conditions for compulsory care were not considered to be met but she remained in voluntary care until 5 May 1993.'\n",
            " '15.  Allegedly, X did not allow K., P. and M. to meet. On 11 May 1993, when K. was again pregnant, her access to P. was further limited by an order of the District Court of R. Basing itself on a doctor’s opinion, the court held that the child’s mental development would be endangered if the meetings between P. and K. continued without supervision as had been ordered in 1992.'\n",
            " '16.  According to the records of the social welfare authorities, M. showed signs of behavioural problems. On 30 March 1992 a psychologist reported how M. had played with two dolls saying – in very vulgar terms – that they were performing sexual acts. On 17 February 1993 K. was said to have broken a mirror in the presence of M. who had kept repeating: “mummy broke the mirror ...”\\nNotes of the social authorities of 24 and 30 March 1993 among others state that games which M. played and pictures he drew were of a destructive nature. According to the notes taken on 30 March, he had lately, while the children were singing together at the day-care nursery, shown immense hatred, threatening “to kill everybody”. The occasions when K. fetched him were described as “unpleasant scenes”, M. shouting and hitting his mother who did not react. It was noted, however, that he no longer played doll games with sexual connotations.'\n",
            " '17.  According to the records of the social welfare authorities, a discussion between K., her mother, T. and a number of social and mental-health care officials took place on 31 March 1993, during which it was mentioned that the authorities might have to intervene in M.’s upbringing, from the child-protection point of view, in a more drastic way than had been the case so far. It appeared that in connection with K.’s recent hospitalisation T. had “forcibly” taken her from a restaurant, which had made K. furious, with the consequence that she had thrown things around; for example, the microwave oven had ended up on the floor. T. had said that K. was unable to control herself.'\n",
            " '18.  On the following day the child welfare support group, consisting of various social and health authorities, agreed that the aim should be to place M. in a children’s home for three months as an assistance measure of open care under section 14 of the 1983 Child Welfare Act (lastensuojelulaki, barnskyddslag 683/1983 – “the 1983 Act”), during which period psychological examinations of the child would be carried out.'\n",
            " '19.  On 3 May 1993 a social welfare official decided on behalf of the Social Welfare Board (perusturvalautakunta, grundtrygghetsnämnden) of S. to place M. in a children’s home for a period of three months. This was to be regarded as a short-term support measure pursuant to the 1983 Act. The applicants had been consulted, together with K.’s mother and sister, on 8 April 1993, in order to find an open-care measure which would be practicable. According to the records of that meeting, no such practical measure had been proposed by any of the participants. The applicants had then been heard again on 21 April 1993 and had not objected to the placing of M. in a children’s home.'\n",
            " '20.  In an opinion of 12 May 1993, requested by the Social Welfare Board, doctors M.L. and K.R. considered that K. was not at that time able to care for M., but that her mental state would not necessarily permanently prevent her from caring for him. Doctors M.L. and K.R. worked at the hospital of H., where K. had been cared for since 1991 during the periods indicated above.'\n",
            " '21.  On 7 June 1993 it was reported by the social welfare authorities that, when K. and T. had come to the children’s home where M. was staying, the boy had undergone a total change in his behaviour, characterised by anger, hatred, swearing, etc. T. had said that he was really tired of the situation and that in his view K. was in need of hospitalisation. When a visit to the health centre had been suggested to her, she had become very angry.\\nAccording to a statement of 22 June 1993 by the children’s home, K. and T. had come to the home on 17 June 1993. While T. had been playing with M., other children had come to tell the staff that K. had asked a 3-year-old girl what her name was. As the girl did not reply, K. had raised her voice and shaken the girl, not letting her go until an older girl had given the child’s name. The other children had been frightened by K.’s behaviour.'\n",
            " '22.  On 11 June 1993 the social welfare official who had decided on 3 May 1993 to place M. in a children’s home informed the University Hospital of T. and the local hospital of S. in writing that she was very worried about the health of K. and the baby she was carrying. She requested the hospitals to contact her as soon as K. arrived at the hospital and, more particularly, at the time of the baby’s delivery. She also expressed the wish that health-care professionals should pay special attention to the relationship between the mother and the new-born baby from the very beginning.'\n",
            " '23.  On 18 June 1993 K. was taken to a district hospital, where she gave birth to J. on the same day. According to the hospital records, the mother stayed calm during the delivery. After the delivery a written decision concerning an emergency care order was served on the hospital. The child was taken to the children’s ward. The mother’s behaviour in the ward was later found to be somewhat restless but not completely disorderly. The hospital records indicate that she understood the situation and wanted to leave hospital the following day. Medication to prevent the secretion of milk was prescribed. It seems that K. left the hospital on 19 June 1993, that is, the following morning, without any post-natal examination. She went to her mother’s home, where she started pushing an empty pram around the place.'\n",
            " '24.  J. was immediately placed in emergency care, pursuant to section 18 of the 1983 Act. After the birth of their child, K. and T. were informed of this decision by two social workers at the hospital of H. The Social Director, who had made the decision on behalf of the Social Welfare Board, noted that K.’s mental state had been unstable during the last stages of her pregnancy. He considered that the baby’s health would be endangered since K. had found out about the plans to place the baby in public care. Lastly, he considered that the baby’s father, T., could not guarantee its development and safety. In addition the Social Director referred to the family’s long-standing difficulties, namely, K.’s serious illness and occasionally uncontrolled emotional reactions which could be traumatic for the children, T.’s inability to care for both J. and K., K.’s reluctance to accept guidance, the impossibility of putting the whole responsibility for J.’s development on T., and the impossibility of providing open-care support measures to the necessary extent. The applicants were not heard prior to the decision. On 24 June 1993 the applicants were notified in writing of the decision to take the new-born baby into public care. The notification was also faxed to K.'\n",
            " '25.  On 21 June 1993 the Social Director also placed M. in emergency care, citing principally the same reasons as in his decision of 18 June 1993 concerning J.'\n",
            " '26.  The applicants did not appeal against the emergency care orders.'\n",
            " '27.  On 21 June 1993 the Social Welfare Board took note of the emergency care orders and prohibited all unsupervised access between K. on the one hand, and J. and M. on the other. The number of supervised visits, however, was not restricted. The Board decided to continue preparations for taking M. and J. into care.'\n",
            " '28.  A meeting was held by social workers at the family centre on 21 June 1993, before the arrival of the baby from the hospital and in the absence of the applicants. It is mentioned in the report that there was a plan to prohibit the mother’s visits for a month on the ground that her reactions could not be predicted as she had, for example, broken things at home. After this initial period she would be allowed to visit the baby without restriction, but accompanied by her personal nurse. However, this plan was not implemented. The following entry appears in the register for 24 June: “The mother may come with her personal nurse if she wants. Other visitors not allowed for the time being.”'\n",
            " '29.  K. was asked to come with T. to the social welfare office on 22 June 1993 at 11.30 a.m. in order to be informed of the decision of 21 June 1993 by the Social Director concerning M. On 24 June 1993 K. and V. (M.’s biological father) were notified in writing of the decision of 21 June 1993. The notification was also faxed to K.'\n",
            " '30.  On 22 June 1993 K. was hospitalised voluntarily at the hospital of H. on account of psychosis, having obtained a referral from a doctor at a health care centre. She was treated there until 30 June 1993.'\n",
            " '31.  On 23 June 1993 J. was placed in the family centre. T. visited her the same day.'\n",
            " '32.  At the beginning of July 1993 T. left the applicants’ home, having been told by the social welfare officials that he had to break off his relationship with K. “if he wanted to keep” J. The applicants nevertheless continued their relationship.'\n",
            " '33.  On 15 July 1993 the Social Welfare Board gave its decisions taking J. and M. into “normal” public care, giving reasons similar to those mentioned in the emergency care orders (see paragraph 24 above), and prolonged the access restriction until 15 September 1993. K. was allowed to see the children only in the company of her personal nurse. The Board essentially considered that K.’s state of health remained unstable; that she was subject to aggressive and uncontrolled emotional moods; and that public care proceedings were a severe mental ordeal for a patient. As regards J., the Board therefore believed that her personal security could be jeopardised if access were to take place without supervision. As regards M., the Board feared that K.’s visits to the children’s home “could no longer be supervised by its staff, which would not be in his interest”. Before the decisions of 15 July 1993 the applicants had been heard and had expressed their objection to the care decisions envisaged.'\n",
            " '34.  On 15 July 1993 K. visited both her children, accompanied by her personal nurse. The register indicates that it was “a difficult situation”.'\n",
            " '35.  On 19 July 1993 T. moved to the family unit of the family centre with J.'\n",
            " '36.  On 20 July 1993 K. was again hospitalised in voluntary care at the open ward of the hospital of H., suffering from psychosis. She left hospital the following day, however. On 26 July 1993 she was placed under observation with a view to determining whether she should be placed in compulsory psychiatric care. On 30 July 1993 she was committed to compulsory psychiatric care. According to the file, her relatives had earlier been worried about her and had contacted the hospital in order to get her into hospital care. They reported that K. had disappeared from her home, where she had behaved in an unsettled and aggressive manner. Her hospitalisation lasted until 27 October 1993, that is, three months.'\n",
            " '37.  During the period between 18 June and 31 August 1993 K. visited her children at their respective children’s homes. During the visits she was accompanied by her personal nurse from the hospital, who was in contact with the social welfare authorities and arranged the visits having regard to K.’s state of mental health. According to the centre’s register, she visited J. twice during this period.'\n",
            " '38.  According to a statement made by a social worker on 4 August 1993, T. had taken good care of J., first at the hospital until 23 June 1993 and later on at the family centre. It was agreed that J. would stay at the family centre and that T. would visit her every other day. J. would visit her father for the first time from 13 to 15 August 1993, during which time T. would organise her christening. The intention was that the baby could move in with her father later on.'\n",
            " '39.  After T.’s paternity had been established on 13 July 1993, T. and K. were granted joint custody of J. on 4 August 1993.'\n",
            " '40.  T.’s travel expenses to the centre were paid for by the social welfare authorities. From the centre’s records it can be deduced that T. succeeded in creating a relationship with the baby and learned to take good care of her. The home leaves were spent with T. first at his mother’s house and later in his new home.'\n",
            " '41.  On 12 August 1993 the Social Welfare Board referred both public care orders to the County Administrative Court (lääninoikeus, länsrätten) for confirmation, as the applicants had opposed them. In support of its referrals, the Board submitted a statement by a social welfare official dated 25 August 1993, according to which T. would not be able to care both for M. and the new-born J. alone, since K. was living in the same home and had been psychotic for the last four years. T. had been in contact with J. at the children’s home three to four times a week. While staying in a flat attached to a municipal children’s home, he had cared for J. for two whole weeks and had subsequently cared for her three days a week in his new home. The Board had therefore begun investigating whether it would be possible to entrust him with the responsibility for J. with the help of support measures taken by the Board.'\n",
            " '42.  On 9 September 1993 the County Administrative Court confirmed the care order concerning J., considering that K. had been mentally ill; that the applicants had had conflicts “as a result of which T. had moved away from their home at the beginning of July 1993”; that because of K.’s illness and the family’s other problems the applicants had been unable to provide J. with adequate care; that the care support provided to the family had not sufficiently improved the family’s situation and that the measures could not be expected to satisfy J.’s care needs. No hearing was held.'\n",
            " '43.  On 11 November 1993 the County Administrative Court confirmed the care order concerning M., repeating the reasons put forward in its decision of 9 September concerning J. No hearing was held.'\n",
            " '44.  In an appeal to the Supreme Administrative Court (korkein hallinto-oikeus, högsta förvaltningsdomstolen) against the confirmation of the public care order concerning M., the applicants were represented by the Public Legal Adviser (yleinen oikeusavustaja, allmänna rättsbiträdet) of S. The Supreme Administrative Court dismissed the appeal on 23 September 1994.'\n",
            " '45.  On the same date the Supreme Administrative Court extended the time allowed for an appeal by K. against the confirmation of the care order made in respect of J.'\n",
            " '46.  On 18 October 1994 K. appealed against the care order in respect of J. as confirmed by the County Administrative Court on 9 September 1993. On 21 August 1995 the Supreme Administrative Court granted K. cost-free proceedings as from 1 March 1994, appointed Ms Suomela as her representative and upheld the County Administrative Court’s decision of 9 September 1993.'\n",
            " '47.  By a decision of 21 January 1994 the Social Welfare Board placed J. in a foster home in K., a town some 120 km away from the applicants’ home. M. joined her on 7 February 1994. The foster parents had no children of their own. Social welfare officials told the applicants and the foster parents that J.’s and M.’s placement would last “for years”. The applicants had proposed that the children’s public care be implemented in the homes of relatives.'\n",
            " '48.  In the meantime, on 15 August 1993, J. was christened in the presence of K., T. and M.'\n",
            " '49.  A consultation was held at the children’s home, on 18 August 1993, in the presence of T. According to the records, K.’s mental health was very unstable and her psychiatric treatment was expected to have to be continued for four to five years. T., however, had expressed his hopes that K. and he could, together, take care of J. in the future. It was agreed that J. would stay at the children’s home and would visit T. every week from Thursday until Saturday, beginning on 28 August 1993. T. would visit J. on other days, according to an arrangement to be agreed with the children’s home.'\n",
            " '50.  On 14 September 1993 the Social Welfare Board prolonged the access restriction until 15 December 1993.'\n",
            " '51.  The following notes of a social welfare official appear among those in the case records of the Social Welfare Board:\\n“14 September 1993:\\n… 2.  ... In addition, the importance of future access between J. and T. has now been questioned, since J.’s placement in [public foster care] is under preparation. It will be difficult for T. to give up J. ...”\\n“13 October 1993:'\n",
            " '52.  On 27 October 1993 K. was discharged from the hospital of H.'\n",
            " '53.  On 2 February 1994 the Social Welfare Board drew up a plan concerning the implementation of the public care. The applicants’ alternative plan was allegedly ignored. For instance, the children could not meet their maternal grandmother at her home.'\n",
            " '54.  After the adoption of the care plan on 2 February 1994, the applicants requested a relaxation of the access restriction. For example, T. had been permitted to see J. only once a month.'\n",
            " '55.  On 21 March 1994 the applicants requested, inter alia, that the Social Welfare Board should draw up a public care plan aiming at the reunification of the family.'\n",
            " '56.  On 3 May 1994 the social welfare authorities organised a meeting in order to revise the care plan of 2 February 1994. The applicants and their representative did not attend the meeting.'\n",
            " '57.  On 17 May 1994 the Social Director restricted both applicants’ access to the children to one monthly visit at the foster home, to take place under supervision and last three hours. The Social Director considered that the grounds for public care still existed. In his view, although the applicants were dissatisfied with the visits set out in the care plan, affording the children an unlimited right to see their parents would create an obstacle to their successful placement. The applicants appealed.'\n",
            " '58.  On 28 September 1994 the County Administrative Court held an oral hearing concerning the access restriction imposed on 17 May 1994. It took evidence from two psychiatrists, who had interviewed K. One of them, Dr T.I.-E., did not know K. personally but commented on a diagnosis concerning her mental state by indicating that K. had a tendency to react in a psychotic manner to conflict situations. Dr K.P. stated that K.’s state of health did not prevent her from caring for her children. Consequently, if her illness had been the reason for the access restriction, that reason no longer existed.'\n",
            " '59.  In a written expert opinion, requested by the Social Welfare Board and submitted to the County Administrative Court, Dr E.V., a child psychiatrist, expressed the opinion that the children should be permanently cared for by the foster parents and that the applicants’ visits should, for the time being, be discontinued so as to protect the children and the foster parents. According to the applicants, Dr E.V. had not met them or the children, nor had he consulted the other psychiatrists before making his proposal.'\n",
            " '60.  On 11 October 1994 the County Administrative Court upheld the access restriction issued on 17 May 1994. It noted that neither of the witnesses who had been heard orally had been willing to state any opinion as regards the children’s development. It reasoned, inter alia, as follows:\\n“... [By allowing] access to take place once a month and [by allowing contact through correspondence] it will be ensured that the children will retain knowledge about their biological parents. If the grounds for public care later cease to exist, a reunification of the family will thus be possible. ...”'\n",
            " '61.  The County Administrative Court dismissed the applicants’ request for exemption from costs, since the relevant legislation did not cover disputes concerning access restrictions. At the court’s hearing, the applicants were nevertheless assisted by Ms Suomela.'\n",
            " '62.  On 26 May 1994 the applicants requested that the Social Welfare Board discontinue the public care of M. and J.'\n",
            " '63.  On 18 September 1994 the Social Director allegedly told the applicants that any further children born to them would also be placed in public care. According to the Government, the Social Director only told them, when expressly asked, that it was possible that any further children born would be taken into public care.'\n",
            " '64.  In an opinion of 22 September 1994 submitted at the Social Welfare Board’s request, Dr K.P., a psychiatrist, commented on the possibility of revoking the public care orders. She concluded that K.’s mental state would not prevent her from having custody of the children. According to Dr K.P., K.’s efforts to have public care discontinued and access restrictions relaxed showed that she possessed psychological resources. She noted, inter alia, that T. was K.’s closest support in the care and upbringing of the children. In addition, K.’s mother, at the time her guardian ad litem, was ready to help in caring for them. Dr K.P., however, added that she could not, as a psychiatrist for adults, take any stand as regards the interests of the children. Dr K.P.’s opinion was also based on a report submitted by Dr K.Po., a psychologist, who had come to the same conclusion as regards K.’s ability to have custody of her children.'\n",
            " '65.  The Public Legal Adviser advised against requesting revocation of the care orders.'\n",
            " '66.  K. was hospitalised from 15 to 24 February and from 11 April to 29 May 1995, apparently on account of psychosis.'\n",
            " '67.  On 14 March 1995 the Social Welfare Board rejected the applicants’ request of 26 May 1994 that the care order be revoked, stating as follows:\\n“At the moment the health of the children’s mother, K., is better and the family situation has changed in other respects in comparison with the situation in 1993 when the decisions to take the children into care were made.\\n...\\nAccording to Dr K.P., a psychiatrist, K. still has ‘a lot of instability’ in her emotional life as well as fragility, brought about by the last five years’ experiences and the diagnosis of mental illness for which she needs – and will need for a long time to come – therapeutic support and treatment. A regular medication is also needed in order to guarantee her continued well-being and to make it possible for her to manage in open care and to have custody of her children. Dr K.P., however, did not give her more precise opinion as to K.’s ability to take care of and bring up her children even though Dr K.P. was explicitly asked to give such an opinion.'\n",
            " '68.  The applicants appealed on 5 April 1995, requesting that they be granted exemption from costs and afforded free legal representation. They also requested an oral hearing.'\n",
            " '69.  On 7 April 1995 a further child, R., was born to the applicants. Having given birth, K. left the hospital for a while on the same evening with the new-born baby wrapped in a blanket, walking barefoot in the cold weather until the hospital staff realised what had happened and intervened.'\n",
            " '70.  On 13 April 1995 K. was committed to compulsory psychiatric care and treated at the hospital of H. until 29 May 1995, while R. was being cared for by T. According to a psychiatrist’s observation of 10 April 1995, K. “must have been suffering from paranoid schizophrenia for some time”.'\n",
            " '71.  On 15 June 1995 the County Administrative Court granted the applicants exemption from costs and appointed Ms Suomela as their representative in the case concerning their appeal against the Social Welfare Board’s decision of 14 March 1995. It decided not to hold a hearing in respect of the applicants’ request for a revocation of the care orders and provided the parties with an opportunity to supplement their written observations.'\n",
            " '72.  On 28 September 1995 the County Administrative Court rejected the applicants’ appeals of 5 April 1995 without holding an oral hearing. The court noted, inter alia, that according to the medical certificates, K.’s state of health had improved but her emotional life was still unstable. She therefore continued to be in need of psychotherapy and medication. In addition, a further child had been born to the applicants and K. had again been treated at the hospital of H. These two factors had caused an additional strain militating against a revocation of the care orders.'\n",
            " '73.  On 17 November 1994 social welfare officials revised the public care plan, proposing that the children meet the applicants once a month on neutral premises at the Family Advice Centre of K., where the foster parents were living. The applicants objected to this proposal, considering that it would have entailed a further restriction of their access to the children. Instead, they requested two meetings a month, one of which was to be at their place of residence. On 22 December 1994 they asked for a separate written decision concerning their access request, so that they could appeal against it.'\n",
            " '74.  In a letter of 22 December 1994 the Social Director informed the applicants that there were no longer any grounds for the access restriction. Meetings between the applicants and the children were nevertheless only authorised for three hours once a month on premises chosen by the Social Welfare Board. They were also informed that the meetings would be supervised.'\n",
            " '75.  In his decision of 11 January 1995 the Social Director confirmed that there were no longer any grounds for the access restriction. On 31 January and 28 February 1995 the Social Welfare Board confirmed the decision of 11 January 1995. The applicants appealed.'\n",
            " '76.  As regards the applicants’ appeal against the Social Welfare Board’s decisions of 31 January and 28 February 1995, the County Administrative Court considered, on 15 June 1995, that the revised care plan drawn up on 17 November 1994 had already entailed an access restriction which had later been renewed by further decisions, without the applicants having been properly heard, in respect of their access request. The matter was referred back to the Social Welfare Board for further consideration.'\n",
            " '77.  In the light of the County Administrative Court’s decision the Acting Social Director, on 28 June 1995, formally restricted the applicants’ access to the children to one meeting a month up to 31 May 1996. The meetings were to take place in the foster home. In addition, the foster parents were to visit the applicants with the children every six months. The Director considered, inter alia, that it was important that the children settle themselves in the foster family environment in which they would grow up. Closer contacts with their parents would mean change and insecurity as well as the creation of a new crisis in their development. The process of settling which had started well would be jeopardised. For the children’s progress it was therefore necessary that their situation remain stable and secure. The Director’s decision was confirmed by the Social Welfare Board on 22 August 1995. The applicants appealed.'\n",
            " '78.  On 3 November 1995 the County Administrative Court rejected the applicants’ appeal against the access restriction confirmed on 22 August 1995.'\n",
            " '79.  On 25 May 1996 social welfare officials revised the public care plan, proposing that the children meet the applicants once a month on the premises of a school at the children’s place of residence. As the applicants were not present when the proposal was made, the care plan was again revised on 9 October 1996 in so far as the access restriction was concerned. The applicants then proposed that the children meet them without supervision once a month. The public care plan was, however, revised as proposed by the social welfare officials.'\n",
            " '80.  On 17 June 1996 the Social Director restricted both applicants’ access to the children, until 30 November 1997, to one monthly visit on the premises of a school at the children’s place of residence, where access was to take place under supervision for three hours. One of the foster parents was also ordered to be present at the time of the access. The Social Director’s decision was confirmed by the Social Welfare Board on 20 August 1996. The applicants’ appealed against the decision to the County Administrative Court, requesting an oral hearing. The court obtained a statement from a child psychiatrist, Dr J.P., who was also recommended by the applicants’ representative to the Social Welfare Board. Dr J.P.’s statement included the following observations:\\n“The right of access of M. and J. to the persons close to them must primarily be examined in the light of their psychological growth and development and their health. This requires an examination of the quality, permanence and durability of their human relationships, because psychological growth and development take place in interaction with human relationships. In my opinion, the human relationships are to be examined from the children’s point of view. ...\\n... In conclusion, I note that before M. was placed in the children’s home ... the mother had been in psychiatric hospital for treatment eight times, making a total of thirteen months. Thus, M. had lived with his mother for forty-five months, namely, three years and nine months. The longest that they spent together was two years and one month. ... T. has, as ‘stepfather’, helped to look after M. for at most ten months. ... the foster parents have so far looked after M. for three years and three months without interruption. ... In practice, M. has not had any kind of relationship with his biological father ... \\nIn the light of the above, I note that the human relationships in M.’s early childhood have, owing to the circumstances, been non-continuous, short-term and changing. The most stable and continuous relationships have been with his foster parents ... Therefore, these relationships are the most relevant and important ones for M.’s psychological growth and development.\\n... J. was born in June 1993. She was taken into public care immediately after she was born. At first, she stayed in the district hospital for a short time, and later at a reception home for small children. T., as the biological father of J., looked after her for two weeks in June and August 1993. J. was placed in the foster family ... in January 1994, when she was some seven months old. So far, J. has stayed with her foster family for some three years and three months without interruption. J. is now a little over 3 years and 10 months old.\\nIn the light of the above, I note that, due to the circumstances, J. has not had any significant and important relationships other than those with her foster parents. J.’s relationship with her foster parents is of primary importance for her psychological growth and development. ...\\n... From the children’s point of view, especially, but naturally also from that of the foster parents, the foster family is a family to which the principles concerning family life enshrined in the United Nations Convention on the Rights of the Child and in the European Convention on Human Rights can be applied in the same way as to biological families. This point of view is especially important when, due to the circumstances, the biological family has not lived together.\\nIn the light of the above, I note that the arrangements for helping and supporting the foster parents of M. and J. are in the best interests of the children. The arrangement will, in the first place, ensure the important, continuous and safe human relationships of M. and J. with their foster parents ...\\nIt is also important for M. and J.’s psychological growth and development that, in the safe and stable conditions provided by the foster family, they are able to form and maintain a good internalised picture of their biological parents ... from whom they have been separated because of the circumstances.\\nIn my opinion, this can be done by complying with the decision of the Social Welfare Board of S. of 20 August 1996 concerning the right of access. At present, an unrestricted right of access or a right of access of the extent suggested by the applicants is not in the interests of the children, because K. and T. are not capable of meeting the emotional needs of M. and J. ... Such arrangements concerning the right of access would clearly endanger the health and development of M. and J. In my opinion, the question of an unrestricted right of access should be evaluated when the children have attained the age of 12.”'\n",
            " '81.  In a statement of 10 September 1996 Dr K.P. stated that in her opinion K.’s psychiatric state did not preclude K.’s having custody of her daughter R.'\n",
            " '82.  On 2 April 1997 the care plan was again revised by the social welfare authorities. The applicants had been informed of the time of the meeting concerning the revision of this care plan on home visits on 15 January and 10 March 1997. Their representative had also been informed of the meeting by a letter sent on 10 February 1997. The applicants did not attend the meeting, and neither did their representative. The applicants were thus not explicitly heard in this connection but, as they had expressed their opinion on other occasions, the authorities recorded their point of view in the plan.'\n",
            " '83.  On 12 June 1997 the County Administrative Court rejected the applicants’ appeal against the Social Welfare Board’s decision of 20 August 1996 to restrict the applicants’ access right (see paragraph 80 above). It refused the applicants’ request for an oral hearing.'\n",
            " '84.  Although the applicants had stated only in their reply that the appeal was also made on R.’s behalf, the County Administrative Court found in its decision that it was in part made in her name. The court stated that a person to whom a decision was directed, or upon whose right, duty or interest it had a direct effect, had the right of appeal. The court considered that the Board’s decision, which concerned R.’s siblings’ and parents’ right of access, was not such a decision.'\n",
            " '85.  On 28 November 1997 the Social Director restricted the applicants’, and consequently their youngest child R.’s, access to J. and M. to one monthly visit of three hours on the premises of a school at the children’s place of residence until the end of 1998. The applicants did not appeal.'\n",
            " '86.  The care plan was again revised on 1 December 1998.'\n",
            " '87.  According to a statement made on 3 July 1998 by Dr K.M. (formerly Dr K.P.), K. had not been hospitalised since May 1995 and her health had been stable since the beginning of 1995. There had been no problems concerning the care of R. (who had lived with her parents all the time and had not been taken into care). It was recommended by Dr K.M. that the social welfare authorities should reduce or discontinue control visits to the applicants’ home in order to give K. the possibility of settling down to normal life without constant supervision by the authorities.'\n",
            " '88.  The restriction orders were extended by the Social Director on 11 December 1998, until the end of 2000. The visits were to take place under supervision on the premises of a school at the children’s place of residence. However, one of the visits was to take place at the applicants’ home in the presence of the foster parents. The Social Director considered, inter alia, that the reunification of the family was not in sight as the foster family was now the children’s de facto home; that the applicants’ access to the children once a month and through correspondence was enough to maintain the children’s awareness of their biological parents; and that closer contacts with the applicants would endanger the children’s development, bring change and insecurity and create a new crisis in their development. The applicants appealed against this decision to the Social Welfare Board which, on 2 February 1999, rejected the appeal and upheld the Social Director’s decisions. In its reasoning, the Board quoted both the County Administrative Court and Dr J.P.'\n",
            " '89.  According to the reports drawn up by the supervisor who attended the meetings of the children and the applicants during the period from 25 May 1996 to 10 January 1999, the adults got on quite well together during the meetings. J. often played games with M. When R. was smaller, J. played by herself, but later it seemed that the girls, J. and R., spent more time together. On the other hand, it seemed that the first applicant made very little contact with J. and M. According to the supervisor’s description, especially in the earlier reports, the first applicant seemed to have concentrated on R.'\n",
            " '90.  M. visited K. and T. at their home for the weekend of 21 to 23 July 2000 without supervision.'\n",
            " '91.  The applicants appealed against the Social Welfare Board’s decision of 2 February 1999, concerning the right of access, to the Administrative Court (formerly the County Administrative Court). An oral hearing, at which M. was also heard, was held on 3 October 2000. In its decision of 13 October 2000 the administrative court upheld the Social Welfare Board’s decision.'\n",
            " '92.  The social authorities reviewed the care plan on 23 November 2000, having consulted the applicants, among others. It was decided that the children would remain in the foster home. According to the care plan, M. and J. are allowed to meet K. and T and others close to them, as from 1 January 2001 until 31 December 2001, without supervision once a month alternately at the applicants’ home and the foster parents’ home. The meetings at the applicants’ home will take place from Saturday 11 a.m. until Sunday 4 p.m., and the meetings at the foster parents’ home on Sundays, from 11 a.m. until 5 p.m. The children are also allowed to meet their other relatives freely during those meetings. In addition to the above, the children will also spend a day and a night with the applicants each Christmas, and two weeks each summer during their school holidays.'\n",
            " '93.  J. and M.’s foster mother died in May 2001.']\n",
            "Row 0 length: 83\n",
            "\n",
            "Row 1 type: <class 'numpy.ndarray'>\n",
            "Row 1 content: ['9.  The applicant is the monarch of Liechtenstein, born in 1945 and living in Vaduz (Liechtenstein).'\n",
            " '10.  The applicant’s late father, the former monarch of Liechtenstein, had been the owner of the painting Szene an einem römischen Kalkofen (alias Der große Kalkofen) of Pieter van Laer, which had formed part of his family’s art collection since at least 1767. Until the end of the Second World War the painting had been in one of the family’s castles on the territory of the now Czech Republic.'\n",
            " '11.  In 1946 the former Czechoslovakia confiscated the property of the applicant’s father which was situated in its territory, including the painting in question, under Decree no. 12 on the “confiscation and accelerated allocation of agricultural property of German and Hungarian persons and of those having committed treason and acted as enemies of the Czech and Slovak people” (dekretu prezidenta republiky č. 12/1945 Sb. o konfiskaci a urychleném rozdělení majetku Němců, Mad’arů, zrádců a nepřátel), issued by the President of the former Czechoslovakia on 21 June 1945 (“the Beneš Decrees” – “Benešovy dekrety”).'\n",
            " '12.  On 21 November 1951 the Bratislava Administrative Court (správní soud) dismissed the appeal lodged by the applicant’s father. \\nIn its reasoning on the merits of the case, the Administrative Court stated that the defendant office had come to the conclusion that the appellant was a person of German nationality within the meaning of the provision in Article 1 § 1 (a) of the decree, on the basis of a finding that this was and had been generally known. It noted that the defence of the complaint directed against this finding was restricted to the representation that this finding was not supported in the files and that, due to this shortcoming, it had not been necessary to deal with the finding in greater detail. The Administrative Court considered that this approach was mistaken as, under the relevant provision of the administrative regulations, no evidence was required for facts which were generally known and, therefore, it was not necessary for evidence to be contained in the administrative files; however, counter-evidence against an official finding that a certain fact was generally known would have been admitted. \\nThe Administrative Court concluded that, as the appellant had failed to raise the objection that the issue was not a fact of general knowledge and to contend that he was in a position to bring counter-evidence, the finding of the defendant office had remained uncontested.'\n",
            " '13.  In 1991 the municipality of Cologne obtained the painting as a temporary loan from the Brno Historical Monuments Office in the Czech Republic.'\n",
            " '14.  On 11 November 1991 the Cologne Regional Court (Landgericht) granted the applicant’s request for an interim injunction ordering the municipality of Cologne to hand over the painting to a bailiff at the end of the exhibition. The painting was sequestrated on 17 December 1991.'\n",
            " '15.  At the beginning of 1992 the applicant instituted proceedings before the Cologne Regional Court against the municipality of Cologne, requesting that the defendant consent to the delivery of the painting to him by the bailiff. He argued that, as his late father’s heir, he was the owner of the painting. He submitted that the painting had not been subject to expropriation measures in the former Czechoslovakia and that in any event such measures were invalid or irrelevant on account of violation of the ordre public of the Federal Republic of Germany.'\n",
            " '16.  The Brno Historical Monuments Office intervened in these proceedings in support of the defendant. It submitted that the applicant’s father had lost his ownership of the painting as a result of the confiscation in 1946 and that the lawfulness of this confiscation had been confirmed by the Bratislava Administrative Court in its decision of 21 November 1951.'\n",
            " '17.  On 10 October 1995 the Cologne Regional Court, following a hearing, declared the applicant’s action inadmissible. In the court’s view, Chapter 6, Article 3, of the Convention on the Settlement of Matters Arising out of the War and the Occupation (Vertrag zur Regelung aus Krieg und Besatzung entstandener Fragen – “the Settlement Convention”) of 23 October 1954 between the United States of America, the United Kingdom of Great Britain and Northern Ireland, the French Republic and the Federal Republic of Germany excluded German jurisdiction over the applicant’s case. \\nIn its reasoning, the Regional Court noted that, under the terms of that Article’s paragraph 3 taken in conjunction with paragraph 1, claims or actions against persons having acquired or transferred title to property on the basis of measures carried out with regard to German external assets or other property, seized for the purpose of reparation or restitution, or as a result of the state of war, or on the basis of specific agreements, were not admissible. These particular provisions had been confirmed upon German unification.\\nAccording to the Regional Court, Chapter 6, Article 3 § 3, of the Settlement Convention applied, mutatis mutandis, to the applicant’s claims against the defendant, which had obtained the painting on loan and had not acquired property, because any review of the aforementioned measures should be excluded.\\nThe Regional Court found that the confiscation of the applicant’s father’s property under Decree no. 12 on the “confiscation and accelerated allocation of agricultural property of German and Hungarian persons and of those having committed treason and acted as enemies of the Czech and Slovak people”, issued by the President of the former Czechoslovakia on 21 June 1945, constituted a measure within the meaning of Chapter 6, Article 3 § 3. \\nThe Regional Court rejected, in particular, the applicant’s argument that this provision did not apply as it only concerned measures carried out with regard to German external assets or other property and his father had never been a German citizen. In this respect, the court, referring to case-law of the Federal Court of Justice (Bundesgerichtshof), stated that the view of the confiscating State was decisive. The aim and purpose of this provision, namely to sanction, without any further examination, confiscation measures implemented abroad could only be achieved by excluding such measures from judicial review in Germany.\\nMoreover, the Regional Court found that the confiscation measure in question pursued one of the purposes mentioned in Chapter 6, Article 3 § 3. Having regard to German case-law regarding other “Beneš Decrees”, especially Decree no. 108 on the “confiscation of enemy property and the national reform fund”, it considered that Decree no. 12, while also pursuing economic aims, was intended to expropriate the property of German and Hungarian nationals, that is, “enemy property”.\\nThe Regional Court further noted that the applicant’s father’s painting had been expropriated under Decree no. 12. The competent Czechoslovakian authorities had interpreted its provisions as applying to the applicant’s father, regarding him as a “person of German nationality”.  The applicant’s father had unsuccessfully appealed against this decision which had been confirmed by the Bratislava Administrative Court in 1951. The German courts were not in a position to review the lawfulness of the confiscation at issue.\\nFinally, the Regional Court considered that the painting at issue, as part of the inventory of the agricultural property, had been included in the confiscation measure. \\nThe Regional Court dismissed the applicant’s request to suspend the proceedings in order to await the outcome of proceedings to be instituted under the German Equalisation of Burdens Act (Lastenausgleichsgesetz) concerning compensation for damage and losses due to, inter alia, expulsion and destruction during the Second World War and the post-war period in the then Soviet-occupied zone of Germany and of Berlin. The Regional Court considered that the question underlying the litigation before it would not be clarified in such proceedings. Irrespective of the question of whether the plaintiff was of German origin, he had no equalisation claims under the said legislation, which only applied to persons who resided in the Federal Republic of Germany or West Berlin on 31 December 1952. In any event, there was no right to compensation for the loss of works of art (Kunstgegenstände).'\n",
            " '18.  On 9 July 1996 the Cologne Court of Appeal (Oberlandesgericht) dismissed the applicant’s appeal. The Court of Appeal confirmed that the applicant’s action was inadmissible as German jurisdiction in respect of his claim was excluded under Chapter 6, Article 3 § 1, in conjunction with paragraph 3, of the Settlement Convention.\\nThe Court of Appeal considered that the notion of German jurisdiction included the competence, derived from State sovereignty and generally vested by the State in the courts, to administer justice. German jurisdiction was delimited by international agreements, customary international law and the generally recognised rules of international law. Chapter 6, Article 3 § 3, taken in conjunction with paragraph 1, of the Settlements Convention excluded German jurisdiction in respect of claims and actions against persons, who, as a consequence of reparation measures, had directly or indirectly acquired title to German property confiscated abroad.\\nThe Court of Appeal confirmed that the provisions in question continued to be in force under the Treaty of 12 September 1990 on the Final Settlement with respect to Germany. Article 7 of this Treaty, which provided for the termination of the operation of quadripartite rights and responsibilities with respect to Berlin and Germany as a whole, was amended by the Agreement of 27 and 28 September 1990 according to which the Settlement Convention was suspended and later terminated with the exception of the provisions specified in paragraph 3 of that Agreement, inter alia, Chapter 6, Article 3 §§ 1 and 3. That Agreement was valid under public international law and under German constitutional law.\\nThe Court of Appeal further considered that Chapter 6, Article 3 § 3, of the Settlement Convention applied in the applicant’s case. In the court’s view, this provision was the procedural consequence of the notion that the legal relations resulting from the liquidation of German property abroad by foreign powers for the purpose of reparation were “final and unchallengeable” (Endgültigkeit und Unanfechtbarkeit) for the Federal Republic of Germany and the private persons concerned. \\nAccording to the Court of Appeal, the applicant’s constitutional rights, in particular his right to property, his right of access to a court and his right to a decision by the legally competent court (gesetzlicher Richter), had not been infringed. Basic rights protected individuals against acts of domestic public authorities and not against the exercise of public authority by a foreign State abroad. The domestic legislator was therefore not prevented from limiting domestic legal protection against violations of basic rights by a foreign State if this was necessary to attain more important goals.\\nWhen applying Chapter 6, Article 3 § 3, of the Settlement Convention, the domestic law of the expropriating State concerning the concrete confiscation measure had to be taken into account, as this provision was aimed at excluding litigation in Germany regarding confiscation measures based on legislation concerning enemy property. \\nAs regards the applicant’s objections against the lawfulness, in particular under public international law, of the confiscation and expropriation of his father’s property, the Court of Appeal found that by virtue of Chapter 6, Article 3 § 3 of the Settlement Convention, German courts had no jurisdiction. Likewise, this provision did not allow recourse to be had to general rules of public international law or to German ordre public when examining the admissibility of the action. The applicant’s argument that the provisions of the Settlement Convention and their application to him as a national and head of a neutral State violated the law of peace was accordingly rejected.\\nAccording to the Court of Appeal, the painting at issue constituted external assets within the meaning of Chapter 6, Article 3 § 1, of the Settlement Convention, referred to in paragraph 3 of Article 3. The Court of Appeal noted that the applicant’s father had indisputably never had German nationality. However, following the case-law of the Federal Court of Justice, it considered that the notion of “German external assets” had to be interpreted in the light of the law of the expropriating State. The confiscation in dispute had been found to be in compliance with the legislation of the expropriating State: the competent Czechoslovakian administrative authorities as well as the Bratislava Administrative Court had found that Presidential Decree no. 12 of 21 June 1945 applied to the applicant’s father’s confiscated property. Article 1 § 1 (a) of this decree provided for the confiscation of agricultural properties of “all persons of German or Hungarian nationality” irrespective of their citizenship. The notions of “German nationality”, or of “German origin” (“deutsche Volkszugehörigkeit”), likewise used at that time, comprised as relevant elements a person’s citizenship and nationality, the latter depending on the mother tongue. At the relevant time, the Czechoslovakian authorities indisputably regarded the applicant’s father as of German origin in that broader sense.\\nThe Court of Appeal also found that the painting at issue, as part of the confiscated agricultural property, had been subject to the expropriation measure. There were no doubts as to the effectiveness of the expropriation, as it was sufficient under the relevant case-law that such expropriations had been implemented and that the previous owners had been deprived of their factual power of disposition. Furthermore, the painting had been confiscated for the purpose of reparation within the meaning of Chapter 6, Article 3 §§ 1 and 3, of the Settlement Agreement. The limitation of the confiscation measures to persons belonging to enemy States in itself justified such a conclusion. The assets of the persons concerned were confiscated as enemy assets.  \\nFinally, the Court of Appeal considered that both the defendant and the intervener belonged to the group of persons protected by Chapter 6, Article 3 § 3, of the Settlement Agreement. German jurisdiction was excluded whenever the plaintiff intended to challenge measures within the meaning of Chapter 6, Article 3 § 1.'\n",
            " '19.  On 25 September 1997 the Federal Court of Justice refused to entertain the applicant’s appeal on points of law, as the case was of no fundamental importance and, in any event, had no prospect of success.'\n",
            " '20.  On 28 January 1998 the Third Section of the Second Division (3. Kammer des zweiten Senats) of the Federal Constitutional Court (Bundesverfassungsgericht) refused to entertain the applicant’s constitutional complaint (Verfassungsbeschwerde), as it offered no prospect of success. \\nThe Federal Constitutional Court considered in particular that, for the purposes of the civil court decisions, questions as to the existence or non-existence of certain rules of customary international law on the confiscation of neutral assets or on the determination of citizenship were irrelevant as they concerned the issue of the lawfulness of the expropriation by the former Czechoslovakia. The German civil courts had not decided this issue and, under public international law, they had not been obliged to do so. Moreover, to the extent that the civil courts had regarded the expropriation as a measure within the meaning of Chapter 6, Article 3 § 1, of the Settlement Convention, they had expressly refrained from qualifying the applicant’s father’s nationality. Their interpretation of the terms “measures with regard to German external assets” as comprising any measures which, in the intention of the expropriating State, were directed against German assets, could not be objected to under constitutional law. The bar on litigation did not constitute an agreement to the detriment of Liechtenstein, as only the Federal Republic of Germany and its courts were under this treaty obligation.\\nThe Federal Constitutional Court further recalled that the exclusion of jurisdiction did not amount to a violation of the right of property as these clauses and the Settlement Convention as a whole served to settle matters dating back to a time before the entry into force of the German Basic Law (Grundgesetz) on 23 May 1949.\\nFinally, there was no indication of arbitrariness or of a violation of other constitutional rights. The Federal Constitutional Court confirmed that Chapter 6, Article 3 §§ 1 and 3, of the Settlement Convention had not been set aside by the Treaty on the Final Settlement with respect to Germany: while Germany obtained full sovereignty, its obligations under treaties with the Three Powers were not affected. This had also been the legal opinion of the Federal Republic of Germany and the Three Powers, which otherwise would not have settled the suspension and termination of parts of the Settlement Convention in a separate agreement.\\nThe decision was served on 2 February 1998.'\n",
            " '21.  On 9 June 1998 the Cologne Regional Court discharged its interim injunction of 11 November 1991. The bailiff thereupon handed the painting over to the Cologne municipality, which had it returned to the Czech Republic.']\n",
            "Row 1 length: 13\n",
            "\n"
          ]
        }
      ]
    },
    {
      "cell_type": "markdown",
      "source": [
        "***html tag removal***"
      ],
      "metadata": {
        "id": "BLK85C35ciYA"
      }
    },
    {
      "cell_type": "code",
      "source": [
        "import re\n",
        "def remove_html_tags(text):\n",
        "    # Remove anything between <...>\n",
        "    clean_text = re.sub(r'<.*?>', '', text)\n",
        "    return clean_text"
      ],
      "metadata": {
        "id": "T-MCHshZcgea"
      },
      "execution_count": null,
      "outputs": []
    },
    {
      "cell_type": "code",
      "source": [
        "for df in [df_train_copy, df_valid_copy, df_test_copy]:\n",
        "    df[\"text\"] = df[\"text\"].apply(remove_html_tags)\n",
        "\n",
        "# Check result\n",
        "print(df_train_copy.head())\n"
      ],
      "metadata": {
        "colab": {
          "base_uri": "https://localhost:8080/"
        },
        "id": "6Iq7Vfgucsv3",
        "outputId": "bcaa297d-577b-4e5d-cdd6-8d18926a563d"
      },
      "execution_count": null,
      "outputs": [
        {
          "output_type": "stream",
          "name": "stdout",
          "text": [
            "                                                text     labels\n",
            "0  11.  at the beginning of the events relevant t...        [4]\n",
            "1  9.  the applicant is the monarch of liechtenst...  [8, 3, 9]\n",
            "2  9.  in june 1949 plots of agricultural land ow...        [3]\n",
            "3  8.  in 1991 mr dušan slobodník, a research wor...  [6, 8, 5]\n",
            "4  9.  the applicant is an italian citizen, born ...     [8, 3]\n"
          ]
        }
      ]
    },
    {
      "cell_type": "markdown",
      "source": [
        "***Remove punc***"
      ],
      "metadata": {
        "id": "2XFaRnROmYQh"
      }
    },
    {
      "cell_type": "code",
      "source": [
        "import string\n",
        "string.punctuation"
      ],
      "metadata": {
        "colab": {
          "base_uri": "https://localhost:8080/",
          "height": 35
        },
        "id": "_AYBF-i3tFOe",
        "outputId": "f2bf1acd-e5e1-4b28-eac4-a9217cae7a6f"
      },
      "execution_count": null,
      "outputs": [
        {
          "output_type": "execute_result",
          "data": {
            "text/plain": [
              "'!\"#$%&\\'()*+,-./:;<=>?@[\\\\]^_`{|}~'"
            ],
            "application/vnd.google.colaboratory.intrinsic+json": {
              "type": "string"
            }
          },
          "metadata": {},
          "execution_count": 17
        }
      ]
    },
    {
      "cell_type": "code",
      "source": [
        "def remove_punctuation(text):\n",
        "    # Remove anything that's not a word, number, or whitespace\n",
        "\n",
        "    return text.translate(str.maketrans('', '', string.punctuation))\n"
      ],
      "metadata": {
        "id": "auRUInALmKOl"
      },
      "execution_count": null,
      "outputs": []
    },
    {
      "cell_type": "code",
      "source": [
        "for df in [df_train_copy, df_valid_copy, df_test_copy]:\n",
        "    df[\"text\"] = df[\"text\"].apply(remove_punctuation)\n",
        "\n",
        "# Check result\n",
        "print(df_train_copy.head())\n"
      ],
      "metadata": {
        "colab": {
          "base_uri": "https://localhost:8080/"
        },
        "id": "c0DQZotTmUcf",
        "outputId": "b39d12bd-f01c-4bcc-d03a-99de8f77abec"
      },
      "execution_count": null,
      "outputs": [
        {
          "output_type": "stream",
          "name": "stdout",
          "text": [
            "                                                text     labels\n",
            "0  11  at the beginning of the events relevant to...        [4]\n",
            "1  9  the applicant is the monarch of liechtenste...  [8, 3, 9]\n",
            "2  9  in june 1949 plots of agricultural land own...        [3]\n",
            "3  8  in 1991 mr dušan slobodník a research worke...  [6, 8, 5]\n",
            "4  9  the applicant is an italian citizen born in...     [8, 3]\n"
          ]
        }
      ]
    },
    {
      "cell_type": "markdown",
      "source": [
        "***Remove the stopwords***"
      ],
      "metadata": {
        "id": "cE-fQC51oRZw"
      }
    },
    {
      "cell_type": "code",
      "source": [
        "import nltk\n",
        "from nltk.corpus import stopwords\n",
        "\n",
        "# Download stopwords if not already\n",
        "nltk.download(\"stopwords\")\n",
        "stop_words = set(stopwords.words(\"english\"))\n",
        "\n",
        "def remove_stopwords(text):\n",
        "    return \" \".join([word for word in text.split() if word not in stop_words])\n",
        "\n",
        "# Apply to all splits\n",
        "for df in [df_train_copy, df_valid_copy, df_test_copy]:\n",
        "    df[\"text\"] = df[\"text\"].apply(remove_stopwords)\n",
        "\n",
        "# Check result\n",
        "print(df_train_copy.head())\n"
      ],
      "metadata": {
        "colab": {
          "base_uri": "https://localhost:8080/"
        },
        "id": "q2n31FWsmfs4",
        "outputId": "2853ef5c-06f5-4b40-bf07-d429736f4a4f"
      },
      "execution_count": null,
      "outputs": [
        {
          "output_type": "stream",
          "name": "stderr",
          "text": [
            "[nltk_data] Downloading package stopwords to /root/nltk_data...\n",
            "[nltk_data]   Unzipping corpora/stopwords.zip.\n"
          ]
        },
        {
          "output_type": "stream",
          "name": "stdout",
          "text": [
            "                                                text     labels\n",
            "0  11 beginning events relevant application k dau...        [4]\n",
            "1  9 applicant monarch liechtenstein born 1945 li...  [8, 3, 9]\n",
            "2  9 june 1949 plots agricultural land owned appl...        [3]\n",
            "3  8 1991 mr dušan slobodník research worker fiel...  [6, 8, 5]\n",
            "4  9 applicant italian citizen born 1947 living o...     [8, 3]\n"
          ]
        }
      ]
    },
    {
      "cell_type": "markdown",
      "source": [
        "***Lemmatization***"
      ],
      "metadata": {
        "id": "XzJMH8zepdNO"
      }
    },
    {
      "cell_type": "code",
      "source": [
        "from nltk.stem import WordNetLemmatizer\n",
        "from nltk.corpus import wordnet\n",
        "\n",
        "# Download resources\n",
        "nltk.download(\"wordnet\")\n",
        "nltk.download(\"omw-1.4\")\n",
        "\n",
        "lemmatizer = WordNetLemmatizer()\n",
        "\n",
        "def lemmatize_text(text):\n",
        "    return \" \".join([lemmatizer.lemmatize(word) for word in text.split()])\n",
        "\n",
        "# Apply to all splits\n",
        "for df in [df_train_copy, df_valid_copy, df_test_copy]:\n",
        "    df[\"text\"] = df[\"text\"].apply(lemmatize_text)\n",
        "\n",
        "# Check result\n",
        "print(df_train_copy.head())\n"
      ],
      "metadata": {
        "colab": {
          "base_uri": "https://localhost:8080/"
        },
        "id": "7NAHvlfZois6",
        "outputId": "5a266ab8-7ac9-44e3-f3e7-19aa328a4d1e"
      },
      "execution_count": null,
      "outputs": [
        {
          "output_type": "stream",
          "name": "stderr",
          "text": [
            "[nltk_data] Downloading package wordnet to /root/nltk_data...\n",
            "[nltk_data] Downloading package omw-1.4 to /root/nltk_data...\n"
          ]
        },
        {
          "output_type": "stream",
          "name": "stdout",
          "text": [
            "                                                text     labels\n",
            "0  11 beginning event relevant application k daug...        [4]\n",
            "1  9 applicant monarch liechtenstein born 1945 li...  [8, 3, 9]\n",
            "2  9 june 1949 plot agricultural land owned appli...        [3]\n",
            "3  8 1991 mr dušan slobodník research worker fiel...  [6, 8, 5]\n",
            "4  9 applicant italian citizen born 1947 living o...     [8, 3]\n"
          ]
        }
      ]
    },
    {
      "cell_type": "markdown",
      "source": [
        "***stemming***"
      ],
      "metadata": {
        "id": "cVWKyC-TqExv"
      }
    },
    {
      "cell_type": "code",
      "source": [
        "from nltk.stem import PorterStemmer\n",
        "\n",
        "# Initialize stemmer\n",
        "stemmer = PorterStemmer()\n",
        "\n",
        "def stem_text(text):\n",
        "    return \" \".join([stemmer.stem(word) for word in text.split()])\n",
        "\n",
        "# Apply stemming to copies (so original isn't affected yet)\n",
        "for df in [df_train_copy, df_valid_copy, df_test_copy]:\n",
        "    df[\"text\"] = df[\"text\"].apply(stem_text)\n",
        "\n",
        "# Check result\n",
        "print(df_train_copy.head())\n"
      ],
      "metadata": {
        "colab": {
          "base_uri": "https://localhost:8080/"
        },
        "id": "sYCwP-w3pkEv",
        "outputId": "40caf39b-806e-407e-cc6b-cde4b9687a30"
      },
      "execution_count": null,
      "outputs": [
        {
          "output_type": "stream",
          "name": "stdout",
          "text": [
            "                                                text     labels\n",
            "0  11 begin event relev applic k daughter p son b...        [4]\n",
            "1  9 applic monarch liechtenstein born 1945 live ...  [8, 3, 9]\n",
            "2  9 june 1949 plot agricultur land own applicant...        [3]\n",
            "3  8 1991 mr dušan slobodník research worker fiel...  [6, 8, 5]\n",
            "4  9 applic italian citizen born 1947 live orista...     [8, 3]\n"
          ]
        }
      ]
    },
    {
      "cell_type": "code",
      "source": [
        "# Save preprocessed versions\n",
        "df_train_copy.to_csv(\"ecthr_b_train_preprocessed.csv\", index=False)\n",
        "df_valid_copy.to_csv(\"ecthr_b_valid_preprocessed.csv\", index=False)\n",
        "df_test_copy.to_csv(\"ecthr_b_test_preprocessed.csv\", index=False)\n"
      ],
      "metadata": {
        "id": "JrlwvlMErL0G"
      },
      "execution_count": null,
      "outputs": []
    },
    {
      "cell_type": "code",
      "source": [
        "from google.colab import files\n",
        "\n",
        "files.download(\"ecthr_b_train_preprocessed.csv\")\n",
        "files.download(\"ecthr_b_valid_preprocessed.csv\")\n",
        "files.download(\"ecthr_b_test_preprocessed.csv\")\n"
      ],
      "metadata": {
        "id": "jL0dBT7Yr2JQ"
      },
      "execution_count": null,
      "outputs": []
    }
  ]
}